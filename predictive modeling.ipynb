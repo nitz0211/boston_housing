{
 "cells": [
  {
   "cell_type": "code",
   "execution_count": 12,
   "metadata": {},
   "outputs": [],
   "source": [
    "import os, json\n",
    "import warnings\n",
    "import numpy as np\n",
    "import matplotlib.pyplot as plt\n",
    "import seaborn as sns\n",
    "import pandas as pd\n",
    "\n",
    "warnings.filterwarnings('ignore')"
   ]
  },
  {
   "cell_type": "code",
   "execution_count": 32,
   "metadata": {},
   "outputs": [],
   "source": [
    "from sklearn.preprocessing import StandardScaler, RobustScaler, MinMaxScaler\n",
    "from sklearn.preprocessing import PolynomialFeatures\n",
    "\n",
    "from sklearn.linear_model import LinearRegression, Ridge, Lasso, ElasticNet\n",
    "from sklearn.ensemble import RandomForestRegressor, GradientBoostingRegressor\n",
    "from xgboost import XGBRegressor\n",
    "from lightgbm import LGBMRegressor\n",
    "\n",
    "from sklearn.model_selection import train_test_split, GridSearchCV, cross_validate\n",
    "from sklearn.feature_selection import SelectPercentile, SelectFromModel, RFE, f_regression\n",
    "\n",
    "from sklearn.metrics import r2_score, mean_absolute_error, mean_squared_error"
   ]
  },
  {
   "cell_type": "code",
   "execution_count": 3,
   "metadata": {},
   "outputs": [],
   "source": [
    "config_file = \"config.json\"\n",
    "\n",
    "with open(config_file, \"r\") as f:\n",
    "    config = json.load(f)"
   ]
  },
  {
   "cell_type": "code",
   "execution_count": 4,
   "metadata": {},
   "outputs": [],
   "source": [
    "data = np.loadtxt(os.path.join(config[\"data_path\"], config[\"data_file\"]), delimiter=\",\", dtype=np.float32)"
   ]
  },
  {
   "cell_type": "code",
   "execution_count": 5,
   "metadata": {},
   "outputs": [],
   "source": [
    "def find_best_n_features_by_percentile(estimator, train_x, train_y, test_x, test_y):\n",
    "    n_features = []\n",
    "    scores = []\n",
    "    selects = []\n",
    "    for i in range(0, 100):        \n",
    "        select = SelectPercentile(score_func=f_regression, percentile=i + 1)\n",
    "        select.fit(train_x, train_y)\n",
    "        select_x = select.transform(train_x)\n",
    "        estimator.fit(select_x, train_y)\n",
    "        selects.append(select)\n",
    "        n_features.append(select_x.shape[1])\n",
    "        scores.append(estimator.score(select.transform(test_x), test_y))\n",
    "    return np.array(n_features), np.array(scores), selects[np.argmax(np.array(scores))]"
   ]
  },
  {
   "cell_type": "code",
   "execution_count": 6,
   "metadata": {},
   "outputs": [],
   "source": [
    "def find_best_n_features_from_model(estimator, train_x, train_y, test_x, test_y):    \n",
    "    n_features = []\n",
    "    scores = []\n",
    "    selects = []\n",
    "    for threshold in (\"median\", \"1.2*median\", \"1.4*median\", \"mean\", \"1.2*mean\", \"1.4*mean\", \"10*mean\"):\n",
    "        select = SelectFromModel(estimator, threshold=threshold)\n",
    "        select.fit(train_x, train_y)\n",
    "        select_x = select.transform(train_x)\n",
    "        estimator.fit(select_x, train_y)\n",
    "        selects.append(select)\n",
    "        n_features.append(select_x.shape[1])\n",
    "        scores.append(estimator.score(select.transform(test_x), test_y))\n",
    "    return np.array(n_features), np.array(scores), selects[np.argmax(np.array(scores))]"
   ]
  },
  {
   "cell_type": "code",
   "execution_count": 7,
   "metadata": {},
   "outputs": [],
   "source": [
    "def find_best_n_features_from_RFE(estimator, train_x, train_y, test_x, test_y):    \n",
    "    n_features = []\n",
    "    scores = []\n",
    "    selects = []\n",
    "    for i in range(0, train_x.shape[1]):\n",
    "        select = RFE(estimator, n_features_to_select=i + 1)\n",
    "        select.fit(train_x, train_y)\n",
    "        select_x = select.transform(train_x)\n",
    "        estimator.fit(select_x, train_y)\n",
    "        selects.append(select)\n",
    "        n_features.append(select_x.shape[1])\n",
    "        scores.append(estimator.score(select.transform(test_x), test_y))\n",
    "    return np.array(n_features), np.array(scores), selects[np.argmax(np.array(scores))]"
   ]
  },
  {
   "cell_type": "markdown",
   "metadata": {},
   "source": [
    "### 1. 피처 엔지니어링"
   ]
  },
  {
   "cell_type": "code",
   "execution_count": 8,
   "metadata": {},
   "outputs": [],
   "source": [
    "x = data[:, :-1]\n",
    "y = data[:, 13]"
   ]
  },
  {
   "cell_type": "code",
   "execution_count": 9,
   "metadata": {},
   "outputs": [],
   "source": [
    "train_x, test_x, train_y, test_y = train_test_split(x,  y, test_size=0.2, random_state=1)"
   ]
  },
  {
   "cell_type": "markdown",
   "metadata": {},
   "source": [
    "#### LinaerRegression"
   ]
  },
  {
   "cell_type": "code",
   "execution_count": 10,
   "metadata": {},
   "outputs": [],
   "source": [
    "lr = LinearRegression()"
   ]
  },
  {
   "cell_type": "code",
   "execution_count": 13,
   "metadata": {},
   "outputs": [],
   "source": [
    "res = cross_validate(lr, train_x, train_y, cv=5, return_train_score=True)\n",
    "res = pd.DataFrame(res)"
   ]
  },
  {
   "cell_type": "code",
   "execution_count": 14,
   "metadata": {},
   "outputs": [
    {
     "name": "stdout",
     "output_type": "stream",
     "text": [
      "   fit_time  score_time  test_score  train_score\n",
      "0  0.001889    0.000866    0.753503     0.720783\n",
      "1  0.001338    0.000666    0.692025     0.735760\n",
      "2  0.000871    0.000651    0.682255     0.730841\n",
      "3  0.000864    0.000644    0.669012     0.742178\n",
      "4  0.000863    0.000675    0.715768     0.730887\n",
      "\n",
      "fit_time       0.001165\n",
      "score_time     0.000700\n",
      "test_score     0.702512\n",
      "train_score    0.732090\n",
      "dtype: float64\n"
     ]
    }
   ],
   "source": [
    "print(res)\n",
    "print()\n",
    "print(res.mean(axis=0))"
   ]
  },
  {
   "cell_type": "code",
   "execution_count": 15,
   "metadata": {},
   "outputs": [],
   "source": [
    "def getPolynomialFeatures(x, degree=2):\n",
    "    polynomial_features = PolynomialFeatures(degree=degree)\n",
    "    x_poly = polynomial_features.fit_transform(x)\n",
    "    return x_poly, polynomial_features"
   ]
  },
  {
   "cell_type": "code",
   "execution_count": 16,
   "metadata": {},
   "outputs": [],
   "source": [
    "def make_features(data, transform_method=None, degree=None):        \n",
    "    x = data[:, :-1]\n",
    "    y = data[:, 13]\n",
    "    \n",
    "    if transform_method == 'Standard':\n",
    "        sc = StandardScaler()\n",
    "        sc.fit(x)\n",
    "        x = sc.transform(x)\n",
    "    elif transform_method == 'MinMax':\n",
    "        mmsc = MinMaxScaler()\n",
    "        mmsc.fit(x)\n",
    "        x = mmsc.transform(x)\n",
    "    \n",
    "    if transform_method == 'Log':\n",
    "        x = np.log1p(x)        \n",
    "    \n",
    "    polynomial_feaures = None\n",
    "    \n",
    "    if degree != None:\n",
    "        x, polynomial_feaures = getPolynomialFeatures(x, degree)\n",
    "    \n",
    "    train_x, test_x, train_y, test_y = train_test_split(x,  y, test_size=0.2, random_state=1)    \n",
    "    \n",
    "    return train_x, test_x, train_y, test_y, polynomial_feaures"
   ]
  },
  {
   "cell_type": "code",
   "execution_count": 17,
   "metadata": {},
   "outputs": [
    {
     "name": "stdout",
     "output_type": "stream",
     "text": [
      "0.7293585250219268\n",
      "0.7634163924072883\n"
     ]
    }
   ],
   "source": [
    "lr.fit(train_x, train_y)\n",
    "print(lr.score(train_x, train_y))\n",
    "print(lr.score(test_x, test_y))"
   ]
  },
  {
   "cell_type": "code",
   "execution_count": 18,
   "metadata": {},
   "outputs": [],
   "source": [
    "train_x, test_x, train_y, test_y, polynomial_feaures = make_features(data, transform_method='Standard', degree=2)"
   ]
  },
  {
   "cell_type": "code",
   "execution_count": 19,
   "metadata": {},
   "outputs": [
    {
     "name": "stdout",
     "output_type": "stream",
     "text": [
      "0.9264046779853473\n",
      "0.9116246116297384\n"
     ]
    }
   ],
   "source": [
    "lr.fit(train_x, train_y)\n",
    "print(lr.score(train_x, train_y))\n",
    "print(lr.score(test_x, test_y))"
   ]
  },
  {
   "cell_type": "code",
   "execution_count": 22,
   "metadata": {},
   "outputs": [],
   "source": [
    "def train_features(estimator, train_x, train_y, cv=5):    \n",
    "    return cross_validate(estimator, train_x, train_y, cv=cv, return_train_score=True)"
   ]
  },
  {
   "cell_type": "code",
   "execution_count": 23,
   "metadata": {},
   "outputs": [
    {
     "data": {
      "text/plain": [
       "fit_time       0.011601\n",
       "score_time     0.000806\n",
       "test_score     0.749104\n",
       "train_score    0.933484\n",
       "dtype: float64"
      ]
     },
     "execution_count": 23,
     "metadata": {},
     "output_type": "execute_result"
    }
   ],
   "source": [
    "pd.DataFrame(train_features(lr, train_x, train_y)).mean()"
   ]
  },
  {
   "cell_type": "code",
   "execution_count": 24,
   "metadata": {},
   "outputs": [],
   "source": [
    "params = []\n",
    "\n",
    "params.append(['Original', None, None])\n",
    "params.append(['Original + Poly 2', None, 2])\n",
    "params.append(['Original + Poly 3', None, 3])\n",
    "params.append(['StandardScaler', 'Standard', None])\n",
    "params.append(['StandardScaler + Poly 2', 'Standard', 2])\n",
    "params.append(['StandardScaler + Poly 3', 'Standard', 3])\n",
    "params.append(['MinMaxScaler', 'MinMax', None])\n",
    "params.append(['MinMaxScaler + Poly 2', 'MinMax', 2])\n",
    "params.append(['MinMaxScaler + Poly 3', 'MinMax', 3])\n",
    "params.append(['Log', 'Log', None])\n",
    "params.append(['Log + Poly 2', 'Log', 2])\n",
    "params.append(['Log + Poly 3', 'Log', 3])"
   ]
  },
  {
   "cell_type": "code",
   "execution_count": 25,
   "metadata": {},
   "outputs": [],
   "source": [
    "results = []\n",
    "\n",
    "for param in params:\n",
    "    train_x, test_x, train_y, test_y, _ = make_features(data, transform_method=param[1], degree=param[2])    \n",
    "    res = pd.DataFrame(train_features(LinearRegression(), train_x, train_y)).mean()\n",
    "    results.append([param[0], res[0], res[1], res[2], res[3]])"
   ]
  },
  {
   "cell_type": "code",
   "execution_count": 26,
   "metadata": {},
   "outputs": [
    {
     "data": {
      "text/html": [
       "<div>\n",
       "<style scoped>\n",
       "    .dataframe tbody tr th:only-of-type {\n",
       "        vertical-align: middle;\n",
       "    }\n",
       "\n",
       "    .dataframe tbody tr th {\n",
       "        vertical-align: top;\n",
       "    }\n",
       "\n",
       "    .dataframe thead th {\n",
       "        text-align: right;\n",
       "    }\n",
       "</style>\n",
       "<table border=\"1\" class=\"dataframe\">\n",
       "  <thead>\n",
       "    <tr style=\"text-align: right;\">\n",
       "      <th></th>\n",
       "      <th>feature</th>\n",
       "      <th>mean_fit_time</th>\n",
       "      <th>mean_score_time</th>\n",
       "      <th>mean_test_score</th>\n",
       "      <th>mean_train_score</th>\n",
       "    </tr>\n",
       "  </thead>\n",
       "  <tbody>\n",
       "    <tr>\n",
       "      <th>9</th>\n",
       "      <td>Log</td>\n",
       "      <td>0.000591</td>\n",
       "      <td>0.000469</td>\n",
       "      <td>0.750569</td>\n",
       "      <td>0.778385</td>\n",
       "    </tr>\n",
       "    <tr>\n",
       "      <th>7</th>\n",
       "      <td>MinMaxScaler + Poly 2</td>\n",
       "      <td>0.005606</td>\n",
       "      <td>0.000521</td>\n",
       "      <td>0.749235</td>\n",
       "      <td>0.934059</td>\n",
       "    </tr>\n",
       "    <tr>\n",
       "      <th>4</th>\n",
       "      <td>StandardScaler + Poly 2</td>\n",
       "      <td>0.005457</td>\n",
       "      <td>0.000526</td>\n",
       "      <td>0.749104</td>\n",
       "      <td>0.933484</td>\n",
       "    </tr>\n",
       "    <tr>\n",
       "      <th>0</th>\n",
       "      <td>Original</td>\n",
       "      <td>0.001214</td>\n",
       "      <td>0.000826</td>\n",
       "      <td>0.702512</td>\n",
       "      <td>0.732090</td>\n",
       "    </tr>\n",
       "    <tr>\n",
       "      <th>6</th>\n",
       "      <td>MinMaxScaler</td>\n",
       "      <td>0.000591</td>\n",
       "      <td>0.000460</td>\n",
       "      <td>0.702512</td>\n",
       "      <td>0.732090</td>\n",
       "    </tr>\n",
       "    <tr>\n",
       "      <th>3</th>\n",
       "      <td>StandardScaler</td>\n",
       "      <td>0.000597</td>\n",
       "      <td>0.000481</td>\n",
       "      <td>0.702512</td>\n",
       "      <td>0.732090</td>\n",
       "    </tr>\n",
       "    <tr>\n",
       "      <th>1</th>\n",
       "      <td>Original + Poly 2</td>\n",
       "      <td>0.008579</td>\n",
       "      <td>0.000665</td>\n",
       "      <td>0.692269</td>\n",
       "      <td>0.911356</td>\n",
       "    </tr>\n",
       "    <tr>\n",
       "      <th>10</th>\n",
       "      <td>Log + Poly 2</td>\n",
       "      <td>0.005311</td>\n",
       "      <td>0.000526</td>\n",
       "      <td>0.631707</td>\n",
       "      <td>0.842505</td>\n",
       "    </tr>\n",
       "    <tr>\n",
       "      <th>2</th>\n",
       "      <td>Original + Poly 3</td>\n",
       "      <td>0.035240</td>\n",
       "      <td>0.000611</td>\n",
       "      <td>-0.386780</td>\n",
       "      <td>0.962820</td>\n",
       "    </tr>\n",
       "    <tr>\n",
       "      <th>8</th>\n",
       "      <td>MinMaxScaler + Poly 3</td>\n",
       "      <td>0.035452</td>\n",
       "      <td>0.000590</td>\n",
       "      <td>-30.467472</td>\n",
       "      <td>0.999852</td>\n",
       "    </tr>\n",
       "    <tr>\n",
       "      <th>5</th>\n",
       "      <td>StandardScaler + Poly 3</td>\n",
       "      <td>0.037214</td>\n",
       "      <td>0.000588</td>\n",
       "      <td>-38.716154</td>\n",
       "      <td>0.999995</td>\n",
       "    </tr>\n",
       "    <tr>\n",
       "      <th>11</th>\n",
       "      <td>Log + Poly 3</td>\n",
       "      <td>0.035409</td>\n",
       "      <td>0.000598</td>\n",
       "      <td>-96.620928</td>\n",
       "      <td>0.997382</td>\n",
       "    </tr>\n",
       "  </tbody>\n",
       "</table>\n",
       "</div>"
      ],
      "text/plain": [
       "                    feature  mean_fit_time  mean_score_time  mean_test_score  \\\n",
       "9                       Log       0.000591         0.000469         0.750569   \n",
       "7     MinMaxScaler + Poly 2       0.005606         0.000521         0.749235   \n",
       "4   StandardScaler + Poly 2       0.005457         0.000526         0.749104   \n",
       "0                  Original       0.001214         0.000826         0.702512   \n",
       "6              MinMaxScaler       0.000591         0.000460         0.702512   \n",
       "3            StandardScaler       0.000597         0.000481         0.702512   \n",
       "1         Original + Poly 2       0.008579         0.000665         0.692269   \n",
       "10             Log + Poly 2       0.005311         0.000526         0.631707   \n",
       "2         Original + Poly 3       0.035240         0.000611        -0.386780   \n",
       "8     MinMaxScaler + Poly 3       0.035452         0.000590       -30.467472   \n",
       "5   StandardScaler + Poly 3       0.037214         0.000588       -38.716154   \n",
       "11             Log + Poly 3       0.035409         0.000598       -96.620928   \n",
       "\n",
       "    mean_train_score  \n",
       "9           0.778385  \n",
       "7           0.934059  \n",
       "4           0.933484  \n",
       "0           0.732090  \n",
       "6           0.732090  \n",
       "3           0.732090  \n",
       "1           0.911356  \n",
       "10          0.842505  \n",
       "2           0.962820  \n",
       "8           0.999852  \n",
       "5           0.999995  \n",
       "11          0.997382  "
      ]
     },
     "execution_count": 26,
     "metadata": {},
     "output_type": "execute_result"
    }
   ],
   "source": [
    "res = pd.DataFrame(results)\n",
    "res.columns = ['feature', 'mean_fit_time', 'mean_score_time', 'mean_test_score', 'mean_train_score']\n",
    "res.sort_values('mean_test_score', ascending=False)"
   ]
  },
  {
   "cell_type": "code",
   "execution_count": 28,
   "metadata": {},
   "outputs": [],
   "source": [
    "train_x, test_x, train_y, test_y, polynomial_features = make_features(data, transform_method='Log', degree=None)"
   ]
  },
  {
   "cell_type": "code",
   "execution_count": 33,
   "metadata": {},
   "outputs": [
    {
     "name": "stdout",
     "output_type": "stream",
     "text": [
      "n_features: 13\n",
      "best_score: 0.8261641691260689\n"
     ]
    }
   ],
   "source": [
    "n_features, scores, select = find_best_n_features_by_percentile(LinearRegression(), train_x, train_y, test_x, test_y)\n",
    "print('n_features: {}'.format(n_features[np.argmax(scores)]))\n",
    "print('best_score: {}'.format(np.max(scores)))"
   ]
  },
  {
   "cell_type": "code",
   "execution_count": 34,
   "metadata": {},
   "outputs": [
    {
     "data": {
      "text/plain": [
       "[<matplotlib.lines.Line2D at 0x7f83cbda3fd0>]"
      ]
     },
     "execution_count": 34,
     "metadata": {},
     "output_type": "execute_result"
    },
    {
     "data": {
      "image/png": "[encoded data removed]",
      "text/plain": [
       "<Figure size 1440x576 with 1 Axes>"
      ]
     },
     "metadata": {
      "needs_background": "light"
     },
     "output_type": "display_data"
    }
   ],
   "source": [
    "plt.figure(figsize=(20, 8))\n",
    "plt.plot(n_features, scores)"
   ]
  },
  {
   "cell_type": "code",
   "execution_count": 35,
   "metadata": {},
   "outputs": [
    {
     "data": {
      "text/plain": [
       "<matplotlib.image.AxesImage at 0x7f83cbc2cc88>"
      ]
     },
     "execution_count": 35,
     "metadata": {},
     "output_type": "execute_result"
    },
    {
     "data": {
      "image/png": "[encoded data removed]",
      "text/plain": [
       "<Figure size 1152x144 with 1 Axes>"
      ]
     },
     "metadata": {
      "needs_background": "light"
     },
     "output_type": "display_data"
    }
   ],
   "source": [
    "mask = select.get_support()\n",
    "plt.matshow(mask.reshape(1, -1), cmap='gray_r')"
   ]
  },
  {
   "cell_type": "code",
   "execution_count": 37,
   "metadata": {},
   "outputs": [
    {
     "name": "stdout",
     "output_type": "stream",
     "text": [
      "n_features: 11\n",
      "best_score: 0.8269428782685562\n"
     ]
    }
   ],
   "source": [
    "n_features, scores, select = find_best_n_features_from_RFE(LinearRegression(), train_x, train_y, test_x, test_y)\n",
    "print('n_features: {}'.format(n_features[np.argmax(scores)]))\n",
    "print('best_score: {}'.format(np.max(scores)))"
   ]
  },
  {
   "cell_type": "code",
   "execution_count": 38,
   "metadata": {},
   "outputs": [
    {
     "data": {
      "text/plain": [
       "[<matplotlib.lines.Line2D at 0x7f83d52cc438>]"
      ]
     },
     "execution_count": 38,
     "metadata": {},
     "output_type": "execute_result"
    },
    {
     "data": {
      "image/png": "[encoded data removed]",
      "text/plain": [
       "<Figure size 1440x576 with 1 Axes>"
      ]
     },
     "metadata": {
      "needs_background": "light"
     },
     "output_type": "display_data"
    }
   ],
   "source": [
    "plt.figure(figsize=(20, 8))\n",
    "plt.plot(n_features, scores)"
   ]
  },
  {
   "cell_type": "code",
   "execution_count": 39,
   "metadata": {},
   "outputs": [
    {
     "data": {
      "text/plain": [
       "<matplotlib.image.AxesImage at 0x7f83cbb4d320>"
      ]
     },
     "execution_count": 39,
     "metadata": {},
     "output_type": "execute_result"
    },
    {
     "data": {
      "image/png": "[encoded data removed]",
      "text/plain": [
       "<Figure size 1152x144 with 1 Axes>"
      ]
     },
     "metadata": {
      "needs_background": "light"
     },
     "output_type": "display_data"
    }
   ],
   "source": [
    "mask = select.get_support()\n",
    "plt.matshow(mask.reshape(1, -1), cmap='gray_r')"
   ]
  },
  {
   "cell_type": "code",
   "execution_count": 40,
   "metadata": {},
   "outputs": [
    {
     "name": "stdout",
     "output_type": "stream",
     "text": [
      "n_features: 11\n",
      "best_score: 0.8269428782685562\n"
     ]
    }
   ],
   "source": [
    "n_features, scores, select = find_best_n_features_from_RFE(LinearRegression(), train_x, train_y, test_x, test_y)\n",
    "print('n_features: {}'.format(n_features[np.argmax(scores)]))\n",
    "print('best_score: {}'.format(np.max(scores)))"
   ]
  },
  {
   "cell_type": "code",
   "execution_count": 41,
   "metadata": {},
   "outputs": [],
   "source": [
    "lm_feature_selection = select.get_support()"
   ]
  },
  {
   "cell_type": "markdown",
   "metadata": {},
   "source": [
    "#### RandomForest"
   ]
  },
  {
   "cell_type": "code",
   "execution_count": 42,
   "metadata": {},
   "outputs": [],
   "source": [
    "results = []\n",
    "\n",
    "for param in params:\n",
    "    train_x, test_x, train_y, test_y, _ = make_features(data, transform_method=param[1], degree=param[2])    \n",
    "    res = pd.DataFrame(train_features(RandomForestRegressor(n_estimators=300), train_x, train_y)).mean()\n",
    "    results.append([param[0], res[0], res[1], res[2], res[3]])"
   ]
  },
  {
   "cell_type": "code",
   "execution_count": 43,
   "metadata": {},
   "outputs": [
    {
     "data": {
      "text/html": [
       "<div>\n",
       "<style scoped>\n",
       "    .dataframe tbody tr th:only-of-type {\n",
       "        vertical-align: middle;\n",
       "    }\n",
       "\n",
       "    .dataframe tbody tr th {\n",
       "        vertical-align: top;\n",
       "    }\n",
       "\n",
       "    .dataframe thead th {\n",
       "        text-align: right;\n",
       "    }\n",
       "</style>\n",
       "<table border=\"1\" class=\"dataframe\">\n",
       "  <thead>\n",
       "    <tr style=\"text-align: right;\">\n",
       "      <th></th>\n",
       "      <th>feature</th>\n",
       "      <th>mean_fit_time</th>\n",
       "      <th>mean_score_time</th>\n",
       "      <th>mean_test_score</th>\n",
       "      <th>mean_train_score</th>\n",
       "    </tr>\n",
       "  </thead>\n",
       "  <tbody>\n",
       "    <tr>\n",
       "      <th>7</th>\n",
       "      <td>MinMaxScaler + Poly 2</td>\n",
       "      <td>1.850325</td>\n",
       "      <td>0.008071</td>\n",
       "      <td>0.870091</td>\n",
       "      <td>0.981152</td>\n",
       "    </tr>\n",
       "    <tr>\n",
       "      <th>11</th>\n",
       "      <td>Log + Poly 3</td>\n",
       "      <td>8.545906</td>\n",
       "      <td>0.008665</td>\n",
       "      <td>0.867307</td>\n",
       "      <td>0.979732</td>\n",
       "    </tr>\n",
       "    <tr>\n",
       "      <th>3</th>\n",
       "      <td>StandardScaler</td>\n",
       "      <td>0.334932</td>\n",
       "      <td>0.008017</td>\n",
       "      <td>0.867085</td>\n",
       "      <td>0.980568</td>\n",
       "    </tr>\n",
       "    <tr>\n",
       "      <th>9</th>\n",
       "      <td>Log</td>\n",
       "      <td>0.334733</td>\n",
       "      <td>0.008063</td>\n",
       "      <td>0.866883</td>\n",
       "      <td>0.981070</td>\n",
       "    </tr>\n",
       "    <tr>\n",
       "      <th>0</th>\n",
       "      <td>Original</td>\n",
       "      <td>0.340501</td>\n",
       "      <td>0.008143</td>\n",
       "      <td>0.864145</td>\n",
       "      <td>0.979685</td>\n",
       "    </tr>\n",
       "    <tr>\n",
       "      <th>6</th>\n",
       "      <td>MinMaxScaler</td>\n",
       "      <td>0.334297</td>\n",
       "      <td>0.008086</td>\n",
       "      <td>0.863999</td>\n",
       "      <td>0.979864</td>\n",
       "    </tr>\n",
       "    <tr>\n",
       "      <th>10</th>\n",
       "      <td>Log + Poly 2</td>\n",
       "      <td>1.852090</td>\n",
       "      <td>0.008099</td>\n",
       "      <td>0.862343</td>\n",
       "      <td>0.980074</td>\n",
       "    </tr>\n",
       "    <tr>\n",
       "      <th>1</th>\n",
       "      <td>Original + Poly 2</td>\n",
       "      <td>1.869377</td>\n",
       "      <td>0.008134</td>\n",
       "      <td>0.851708</td>\n",
       "      <td>0.978886</td>\n",
       "    </tr>\n",
       "    <tr>\n",
       "      <th>2</th>\n",
       "      <td>Original + Poly 3</td>\n",
       "      <td>8.492397</td>\n",
       "      <td>0.008461</td>\n",
       "      <td>0.846152</td>\n",
       "      <td>0.979026</td>\n",
       "    </tr>\n",
       "    <tr>\n",
       "      <th>8</th>\n",
       "      <td>MinMaxScaler + Poly 3</td>\n",
       "      <td>8.600174</td>\n",
       "      <td>0.008391</td>\n",
       "      <td>0.841821</td>\n",
       "      <td>0.978931</td>\n",
       "    </tr>\n",
       "    <tr>\n",
       "      <th>4</th>\n",
       "      <td>StandardScaler + Poly 2</td>\n",
       "      <td>2.133712</td>\n",
       "      <td>0.008181</td>\n",
       "      <td>0.833731</td>\n",
       "      <td>0.974579</td>\n",
       "    </tr>\n",
       "    <tr>\n",
       "      <th>5</th>\n",
       "      <td>StandardScaler + Poly 3</td>\n",
       "      <td>11.506309</td>\n",
       "      <td>0.008484</td>\n",
       "      <td>0.815325</td>\n",
       "      <td>0.973988</td>\n",
       "    </tr>\n",
       "  </tbody>\n",
       "</table>\n",
       "</div>"
      ],
      "text/plain": [
       "                    feature  mean_fit_time  mean_score_time  mean_test_score  \\\n",
       "7     MinMaxScaler + Poly 2       1.850325         0.008071         0.870091   \n",
       "11             Log + Poly 3       8.545906         0.008665         0.867307   \n",
       "3            StandardScaler       0.334932         0.008017         0.867085   \n",
       "9                       Log       0.334733         0.008063         0.866883   \n",
       "0                  Original       0.340501         0.008143         0.864145   \n",
       "6              MinMaxScaler       0.334297         0.008086         0.863999   \n",
       "10             Log + Poly 2       1.852090         0.008099         0.862343   \n",
       "1         Original + Poly 2       1.869377         0.008134         0.851708   \n",
       "2         Original + Poly 3       8.492397         0.008461         0.846152   \n",
       "8     MinMaxScaler + Poly 3       8.600174         0.008391         0.841821   \n",
       "4   StandardScaler + Poly 2       2.133712         0.008181         0.833731   \n",
       "5   StandardScaler + Poly 3      11.506309         0.008484         0.815325   \n",
       "\n",
       "    mean_train_score  \n",
       "7           0.981152  \n",
       "11          0.979732  \n",
       "3           0.980568  \n",
       "9           0.981070  \n",
       "0           0.979685  \n",
       "6           0.979864  \n",
       "10          0.980074  \n",
       "1           0.978886  \n",
       "2           0.979026  \n",
       "8           0.978931  \n",
       "4           0.974579  \n",
       "5           0.973988  "
      ]
     },
     "execution_count": 43,
     "metadata": {},
     "output_type": "execute_result"
    }
   ],
   "source": [
    "res = pd.DataFrame(results)\n",
    "res.columns = ['feature', 'mean_fit_time', 'mean_score_time', 'mean_test_score', 'mean_train_score']\n",
    "res.sort_values('mean_test_score', ascending=False)"
   ]
  },
  {
   "cell_type": "code",
   "execution_count": 44,
   "metadata": {},
   "outputs": [],
   "source": [
    "train_x, test_x, train_y, test_y, _ = make_features(data, transform_method=None, degree=None)"
   ]
  },
  {
   "cell_type": "code",
   "execution_count": 45,
   "metadata": {},
   "outputs": [
    {
     "data": {
      "text/plain": [
       "RandomForestRegressor(bootstrap=True, criterion='mse', max_depth=None,\n",
       "                      max_features='auto', max_leaf_nodes=None,\n",
       "                      min_impurity_decrease=0.0, min_impurity_split=None,\n",
       "                      min_samples_leaf=1, min_samples_split=2,\n",
       "                      min_weight_fraction_leaf=0.0, n_estimators=300,\n",
       "                      n_jobs=None, oob_score=False, random_state=None,\n",
       "                      verbose=0, warm_start=False)"
      ]
     },
     "execution_count": 45,
     "metadata": {},
     "output_type": "execute_result"
    }
   ],
   "source": [
    "rf = RandomForestRegressor(n_estimators=300)\n",
    "rf.fit(train_x, train_y)"
   ]
  },
  {
   "cell_type": "code",
   "execution_count": 46,
   "metadata": {},
   "outputs": [],
   "source": [
    "feature_names = ['CRIM', 'ZN', 'INDUS', 'CHAS', 'NOX', 'RM' ,'AGE', 'DIS', 'RAD', 'TAX', 'PTRATIO', 'B', 'LSTAT']\n",
    "feature_impotances = pd.Series(rf.feature_importances_, index=feature_names)\n",
    "feature_impotances = feature_impotances.sort_values(ascending=False)"
   ]
  },
  {
   "cell_type": "code",
   "execution_count": 47,
   "metadata": {},
   "outputs": [
    {
     "data": {
      "text/plain": [
       "<matplotlib.axes._subplots.AxesSubplot at 0x7f83cbb0dc50>"
      ]
     },
     "execution_count": 47,
     "metadata": {},
     "output_type": "execute_result"
    },
    {
     "data": {
      "image/png": "[encoded data removed]",
      "text/plain": [
       "<Figure size 720x360 with 1 Axes>"
      ]
     },
     "metadata": {
      "needs_background": "light"
     },
     "output_type": "display_data"
    }
   ],
   "source": [
    "plt.figure(figsize=(10, 5))\n",
    "sns.barplot(x=feature_impotances, y=feature_impotances.index)"
   ]
  },
  {
   "cell_type": "code",
   "execution_count": 48,
   "metadata": {},
   "outputs": [
    {
     "name": "stdout",
     "output_type": "stream",
     "text": [
      "n_features: 12\n",
      "best_score: 0.9152074992392787\n"
     ]
    }
   ],
   "source": [
    "n_features, scores, select = find_best_n_features_by_percentile(RandomForestRegressor(n_estimators=300), train_x, train_y, test_x, test_y)\n",
    "print('n_features: {}'.format(n_features[np.argmax(scores)]))\n",
    "print('best_score: {}'.format(np.max(scores)))"
   ]
  },
  {
   "cell_type": "code",
   "execution_count": 49,
   "metadata": {},
   "outputs": [
    {
     "data": {
      "text/plain": [
       "[<matplotlib.lines.Line2D at 0x7f83c9599e48>]"
      ]
     },
     "execution_count": 49,
     "metadata": {},
     "output_type": "execute_result"
    },
    {
     "data": {
      "image/png": "[encoded data removed]",
      "text/plain": [
       "<Figure size 1440x576 with 1 Axes>"
      ]
     },
     "metadata": {
      "needs_background": "light"
     },
     "output_type": "display_data"
    }
   ],
   "source": [
    "plt.figure(figsize=(20, 8))\n",
    "plt.plot(n_features, scores)"
   ]
  },
  {
   "cell_type": "code",
   "execution_count": 50,
   "metadata": {},
   "outputs": [
    {
     "data": {
      "text/plain": [
       "<matplotlib.image.AxesImage at 0x7f83c94f5dd8>"
      ]
     },
     "execution_count": 50,
     "metadata": {},
     "output_type": "execute_result"
    },
    {
     "data": {
      "image/png": "[encoded data removed]",
      "text/plain": [
       "<Figure size 1152x144 with 1 Axes>"
      ]
     },
     "metadata": {
      "needs_background": "light"
     },
     "output_type": "display_data"
    }
   ],
   "source": [
    "mask = select.get_support()\n",
    "plt.matshow(mask.reshape(1, -1), cmap='gray_r')"
   ]
  },
  {
   "cell_type": "code",
   "execution_count": 656,
   "metadata": {},
   "outputs": [
    {
     "name": "stdout",
     "output_type": "stream",
     "text": [
      "n_features: 8\n",
      "best_score: 0.9152180980473656\n"
     ]
    }
   ],
   "source": [
    "n_features, scores, select = find_best_n_features_from_RFE(RandomForestRegressor(n_estimators=300), train_x, train_y, test_x, test_y)\n",
    "print('n_features: {}'.format(n_features[np.argmax(scores)]))\n",
    "print('best_score: {}'.format(np.max(scores)))"
   ]
  },
  {
   "cell_type": "code",
   "execution_count": 657,
   "metadata": {},
   "outputs": [
    {
     "data": {
      "text/plain": [
       "[<matplotlib.lines.Line2D at 0x7f76585fa978>]"
      ]
     },
     "execution_count": 657,
     "metadata": {},
     "output_type": "execute_result"
    },
    {
     "data": {
      "image/png": "[encoded data removed]",
      "text/plain": [
       "<Figure size 1440x576 with 1 Axes>"
      ]
     },
     "metadata": {
      "needs_background": "light"
     },
     "output_type": "display_data"
    }
   ],
   "source": [
    "plt.figure(figsize=(20, 8))\n",
    "plt.plot(n_features, scores)"
   ]
  },
  {
   "cell_type": "code",
   "execution_count": 658,
   "metadata": {},
   "outputs": [
    {
     "data": {
      "text/plain": [
       "<matplotlib.image.AxesImage at 0x7f7658669d68>"
      ]
     },
     "execution_count": 658,
     "metadata": {},
     "output_type": "execute_result"
    },
    {
     "data": {
      "image/png": "[encoded data removed]",
      "text/plain": [
       "<Figure size 1152x144 with 1 Axes>"
      ]
     },
     "metadata": {
      "needs_background": "light"
     },
     "output_type": "display_data"
    }
   ],
   "source": [
    "mask = select.get_support()\n",
    "plt.matshow(mask.reshape(1, -1), cmap='gray_r')"
   ]
  },
  {
   "cell_type": "markdown",
   "metadata": {},
   "source": [
    "### 2. 모델링"
   ]
  },
  {
   "cell_type": "code",
   "execution_count": 51,
   "metadata": {},
   "outputs": [],
   "source": [
    "train_x, test_x, train_y, test_y, _ = make_features(data, transform_method='MinMax', degree=2)"
   ]
  },
  {
   "cell_type": "code",
   "execution_count": 52,
   "metadata": {},
   "outputs": [],
   "source": [
    "models = []"
   ]
  },
  {
   "cell_type": "code",
   "execution_count": 53,
   "metadata": {},
   "outputs": [],
   "source": [
    "def train_models(estimator, param_grid, train_x, train_y, test_x, test_y):\n",
    "    cv = GridSearchCV(estimator, param_grid=param_grid, scoring='r2', cv=10, n_jobs=-1, return_train_score=True)\n",
    "    cv.fit(train_x, train_y)\n",
    "    cv.best_estimator_.score(test_x, test_y)\n",
    "    return [estimator.__class__, cv.best_estimator_, cv.best_params_, cv.best_score_, cv.best_estimator_.score(test_x, test_y), cv]   "
   ]
  },
  {
   "cell_type": "markdown",
   "metadata": {},
   "source": [
    "#### Lasso"
   ]
  },
  {
   "cell_type": "code",
   "execution_count": 54,
   "metadata": {},
   "outputs": [],
   "source": [
    "lasso_params = [\n",
    "    { 'alpha': [0.000001, 0.00001, 0.0001, 0.001, 0.01, 0.1, 1.0] }\n",
    "]"
   ]
  },
  {
   "cell_type": "code",
   "execution_count": 55,
   "metadata": {},
   "outputs": [],
   "source": [
    "models.append(train_models(Lasso(), lasso_params, train_x, train_y, test_x, test_y))"
   ]
  },
  {
   "cell_type": "markdown",
   "metadata": {},
   "source": [
    "#### Ridge"
   ]
  },
  {
   "cell_type": "code",
   "execution_count": 56,
   "metadata": {},
   "outputs": [],
   "source": [
    "ridge_params = [\n",
    "    { 'alpha': [0.000001, 0.00001, 0.0001, 0.001, 0.01, 0.1, 1.0] }\n",
    "]"
   ]
  },
  {
   "cell_type": "code",
   "execution_count": 57,
   "metadata": {},
   "outputs": [],
   "source": [
    "models.append(train_models(Ridge(), ridge_params, train_x, train_y, test_x, test_y))"
   ]
  },
  {
   "cell_type": "markdown",
   "metadata": {},
   "source": [
    "#### RandomForest"
   ]
  },
  {
   "cell_type": "code",
   "execution_count": 58,
   "metadata": {},
   "outputs": [],
   "source": [
    "rf_params = [\n",
    "    {\n",
    "        'n_estimators': [100, 200, 300, 500, 1000],\n",
    "        'max_depth': [2, 4, 6, 8, 10, 15, 20]\n",
    "    }\n",
    "]"
   ]
  },
  {
   "cell_type": "code",
   "execution_count": 59,
   "metadata": {},
   "outputs": [],
   "source": [
    "models.append(train_models(RandomForestRegressor(), rf_params, train_x, train_y, test_x, test_y))"
   ]
  },
  {
   "cell_type": "markdown",
   "metadata": {},
   "source": [
    "#### Gridient Boosting"
   ]
  },
  {
   "cell_type": "code",
   "execution_count": 60,
   "metadata": {},
   "outputs": [],
   "source": [
    "gb_grid = [\n",
    "    {\n",
    "        'learning_rate': [0.001, 0.01, 0.1],\n",
    "        'max_depth': [2, 4, 6, 8, 10, 15, 20],\n",
    "        'n_estimators': [100, 200, 300, 500, 1000]\n",
    "    }\n",
    "]"
   ]
  },
  {
   "cell_type": "code",
   "execution_count": 61,
   "metadata": {},
   "outputs": [],
   "source": [
    "models.append(train_models(GradientBoostingRegressor(), gb_grid, train_x, train_y, test_x, test_y))"
   ]
  },
  {
   "cell_type": "markdown",
   "metadata": {},
   "source": [
    "#### LightGBM"
   ]
  },
  {
   "cell_type": "code",
   "execution_count": 62,
   "metadata": {},
   "outputs": [],
   "source": [
    "lgbm_params = [\n",
    "    {\n",
    "        'learning_rate': [0.001, 0.01, 0.1],\n",
    "        'max_depth': [2, 4, 6, 8, 10, 15, 20],\n",
    "        'n_estimators': [100, 200, 300, 500, 1000]\n",
    "    }\n",
    "]"
   ]
  },
  {
   "cell_type": "code",
   "execution_count": 63,
   "metadata": {},
   "outputs": [],
   "source": [
    "models.append(train_models(LGBMRegressor(), lgbm_params, train_x, train_y, test_x, test_y))"
   ]
  },
  {
   "cell_type": "markdown",
   "metadata": {},
   "source": [
    "#### XGBoost"
   ]
  },
  {
   "cell_type": "code",
   "execution_count": 64,
   "metadata": {},
   "outputs": [],
   "source": [
    "xgb_params = [\n",
    "    {\n",
    "        'learning_rate': [0.001, 0.01, 0.1],\n",
    "        'max_depth': [2, 4, 6, 8, 10, 15, 20],\n",
    "        'n_estimators': [100, 200, 300, 500, 1000]\n",
    "    }\n",
    "]"
   ]
  },
  {
   "cell_type": "code",
   "execution_count": 65,
   "metadata": {},
   "outputs": [
    {
     "name": "stdout",
     "output_type": "stream",
     "text": [
      "[00:40:31] WARNING: /workspace/src/objective/regression_obj.cu:152: reg:linear is now deprecated in favor of reg:squarederror.\n"
     ]
    }
   ],
   "source": [
    "models.append(train_models(XGBRegressor(), xgb_params, train_x, train_y, test_x, test_y))"
   ]
  },
  {
   "cell_type": "markdown",
   "metadata": {},
   "source": [
    "### 3. 평가"
   ]
  },
  {
   "cell_type": "code",
   "execution_count": 66,
   "metadata": {},
   "outputs": [],
   "source": [
    "eval_df = pd.DataFrame(models)\n",
    "eval_df.columns = ['class', 'estimator', 'best_params', 'valid_r2_score', 'test_r2_score', 'cv']"
   ]
  },
  {
   "cell_type": "code",
   "execution_count": 67,
   "metadata": {},
   "outputs": [
    {
     "data": {
      "text/html": [
       "<div>\n",
       "<style scoped>\n",
       "    .dataframe tbody tr th:only-of-type {\n",
       "        vertical-align: middle;\n",
       "    }\n",
       "\n",
       "    .dataframe tbody tr th {\n",
       "        vertical-align: top;\n",
       "    }\n",
       "\n",
       "    .dataframe thead th {\n",
       "        text-align: right;\n",
       "    }\n",
       "</style>\n",
       "<table border=\"1\" class=\"dataframe\">\n",
       "  <thead>\n",
       "    <tr style=\"text-align: right;\">\n",
       "      <th></th>\n",
       "      <th>class</th>\n",
       "      <th>estimator</th>\n",
       "      <th>best_params</th>\n",
       "      <th>valid_r2_score</th>\n",
       "      <th>test_r2_score</th>\n",
       "      <th>cv</th>\n",
       "    </tr>\n",
       "  </thead>\n",
       "  <tbody>\n",
       "    <tr>\n",
       "      <th>0</th>\n",
       "      <td>&lt;class 'sklearn.linear_model.coordinate_descen...</td>\n",
       "      <td>Lasso(alpha=0.001, copy_X=True, fit_intercept=...</td>\n",
       "      <td>{'alpha': 0.001}</td>\n",
       "      <td>0.801090</td>\n",
       "      <td>0.918163</td>\n",
       "      <td>GridSearchCV(cv=10, error_score='raise-depreca...</td>\n",
       "    </tr>\n",
       "    <tr>\n",
       "      <th>1</th>\n",
       "      <td>&lt;class 'sklearn.linear_model.ridge.Ridge'&gt;</td>\n",
       "      <td>Ridge(alpha=0.1, copy_X=True, fit_intercept=Tr...</td>\n",
       "      <td>{'alpha': 0.1}</td>\n",
       "      <td>0.807664</td>\n",
       "      <td>0.925851</td>\n",
       "      <td>GridSearchCV(cv=10, error_score='raise-depreca...</td>\n",
       "    </tr>\n",
       "    <tr>\n",
       "      <th>2</th>\n",
       "      <td>&lt;class 'sklearn.ensemble.forest.RandomForestRe...</td>\n",
       "      <td>(DecisionTreeRegressor(criterion='mse', max_de...</td>\n",
       "      <td>{'max_depth': 15, 'n_estimators': 200}</td>\n",
       "      <td>0.874483</td>\n",
       "      <td>0.919734</td>\n",
       "      <td>GridSearchCV(cv=10, error_score='raise-depreca...</td>\n",
       "    </tr>\n",
       "    <tr>\n",
       "      <th>3</th>\n",
       "      <td>&lt;class 'sklearn.ensemble.gradient_boosting.Gra...</td>\n",
       "      <td>([DecisionTreeRegressor(criterion='friedman_ms...</td>\n",
       "      <td>{'learning_rate': 0.01, 'max_depth': 4, 'n_est...</td>\n",
       "      <td>0.890904</td>\n",
       "      <td>0.907317</td>\n",
       "      <td>GridSearchCV(cv=10, error_score='raise-depreca...</td>\n",
       "    </tr>\n",
       "    <tr>\n",
       "      <th>4</th>\n",
       "      <td>&lt;class 'lightgbm.sklearn.LGBMRegressor'&gt;</td>\n",
       "      <td>LGBMRegressor(boosting_type='gbdt', class_weig...</td>\n",
       "      <td>{'learning_rate': 0.1, 'max_depth': 6, 'n_esti...</td>\n",
       "      <td>0.881213</td>\n",
       "      <td>0.905779</td>\n",
       "      <td>GridSearchCV(cv=10, error_score='raise-depreca...</td>\n",
       "    </tr>\n",
       "    <tr>\n",
       "      <th>5</th>\n",
       "      <td>&lt;class 'xgboost.sklearn.XGBRegressor'&gt;</td>\n",
       "      <td>XGBRegressor(base_score=0.5, booster='gbtree',...</td>\n",
       "      <td>{'learning_rate': 0.1, 'max_depth': 2, 'n_esti...</td>\n",
       "      <td>0.900582</td>\n",
       "      <td>0.903337</td>\n",
       "      <td>GridSearchCV(cv=10, error_score='raise-depreca...</td>\n",
       "    </tr>\n",
       "  </tbody>\n",
       "</table>\n",
       "</div>"
      ],
      "text/plain": [
       "                                               class  \\\n",
       "0  <class 'sklearn.linear_model.coordinate_descen...   \n",
       "1         <class 'sklearn.linear_model.ridge.Ridge'>   \n",
       "2  <class 'sklearn.ensemble.forest.RandomForestRe...   \n",
       "3  <class 'sklearn.ensemble.gradient_boosting.Gra...   \n",
       "4           <class 'lightgbm.sklearn.LGBMRegressor'>   \n",
       "5             <class 'xgboost.sklearn.XGBRegressor'>   \n",
       "\n",
       "                                           estimator  \\\n",
       "0  Lasso(alpha=0.001, copy_X=True, fit_intercept=...   \n",
       "1  Ridge(alpha=0.1, copy_X=True, fit_intercept=Tr...   \n",
       "2  (DecisionTreeRegressor(criterion='mse', max_de...   \n",
       "3  ([DecisionTreeRegressor(criterion='friedman_ms...   \n",
       "4  LGBMRegressor(boosting_type='gbdt', class_weig...   \n",
       "5  XGBRegressor(base_score=0.5, booster='gbtree',...   \n",
       "\n",
       "                                         best_params  valid_r2_score  \\\n",
       "0                                   {'alpha': 0.001}        0.801090   \n",
       "1                                     {'alpha': 0.1}        0.807664   \n",
       "2             {'max_depth': 15, 'n_estimators': 200}        0.874483   \n",
       "3  {'learning_rate': 0.01, 'max_depth': 4, 'n_est...        0.890904   \n",
       "4  {'learning_rate': 0.1, 'max_depth': 6, 'n_esti...        0.881213   \n",
       "5  {'learning_rate': 0.1, 'max_depth': 2, 'n_esti...        0.900582   \n",
       "\n",
       "   test_r2_score                                                 cv  \n",
       "0       0.918163  GridSearchCV(cv=10, error_score='raise-depreca...  \n",
       "1       0.925851  GridSearchCV(cv=10, error_score='raise-depreca...  \n",
       "2       0.919734  GridSearchCV(cv=10, error_score='raise-depreca...  \n",
       "3       0.907317  GridSearchCV(cv=10, error_score='raise-depreca...  \n",
       "4       0.905779  GridSearchCV(cv=10, error_score='raise-depreca...  \n",
       "5       0.903337  GridSearchCV(cv=10, error_score='raise-depreca...  "
      ]
     },
     "execution_count": 67,
     "metadata": {},
     "output_type": "execute_result"
    }
   ],
   "source": [
    "eval_df"
   ]
  },
  {
   "cell_type": "code",
   "execution_count": 68,
   "metadata": {},
   "outputs": [],
   "source": [
    "corr_df = pd.DataFrame(test_y)\n",
    "for model in models:\n",
    "    corr_df = pd.concat([corr_df, pd.DataFrame(model[1].predict(test_x))], axis=1)"
   ]
  },
  {
   "cell_type": "code",
   "execution_count": 69,
   "metadata": {},
   "outputs": [],
   "source": [
    "corr_df.columns = ['real', 'lasso', 'ridge', 'randomforest', 'gradientboosting', 'lightgbm', 'xgboost']"
   ]
  },
  {
   "cell_type": "code",
   "execution_count": 70,
   "metadata": {},
   "outputs": [
    {
     "data": {
      "text/plain": [
       "real                1.000000\n",
       "ridge               0.965693\n",
       "randomforest        0.964419\n",
       "lasso               0.959832\n",
       "gradientboosting    0.955868\n",
       "lightgbm            0.953941\n",
       "xgboost             0.952658\n",
       "Name: real, dtype: float64"
      ]
     },
     "execution_count": 70,
     "metadata": {},
     "output_type": "execute_result"
    }
   ],
   "source": [
    "corr_df.corr()['real'].sort_values(ascending=False)"
   ]
  },
  {
   "cell_type": "code",
   "execution_count": 71,
   "metadata": {},
   "outputs": [],
   "source": [
    "corr_df['rr_ensemble'] = corr_df['ridge'] * 0.4 + corr_df['randomforest'] * 0.6"
   ]
  },
  {
   "cell_type": "code",
   "execution_count": 72,
   "metadata": {
    "scrolled": true
   },
   "outputs": [
    {
     "data": {
      "text/plain": [
       "real                1.000000\n",
       "rr_ensemble         0.972201\n",
       "ridge               0.965693\n",
       "randomforest        0.964419\n",
       "lasso               0.959832\n",
       "gradientboosting    0.955868\n",
       "lightgbm            0.953941\n",
       "xgboost             0.952658\n",
       "Name: real, dtype: float64"
      ]
     },
     "execution_count": 72,
     "metadata": {},
     "output_type": "execute_result"
    }
   ],
   "source": [
    "corr_df.corr()['real'].sort_values(ascending=False)"
   ]
  },
  {
   "cell_type": "code",
   "execution_count": 73,
   "metadata": {},
   "outputs": [
    {
     "name": "stdout",
     "output_type": "stream",
     "text": [
      "n_features: 91\n",
      "best_score: 0.9259689079680443\n"
     ]
    }
   ],
   "source": [
    "n_features, scores, select = find_best_n_features_from_RFE(models[1][1], train_x, train_y, test_x, test_y)\n",
    "print('n_features: {}'.format(n_features[np.argmax(scores)]))\n",
    "print('best_score: {}'.format(np.max(scores)))"
   ]
  },
  {
   "cell_type": "code",
   "execution_count": 74,
   "metadata": {
    "scrolled": false
   },
   "outputs": [
    {
     "data": {
      "text/plain": [
       "[<matplotlib.lines.Line2D at 0x7f83c93cf828>]"
      ]
     },
     "execution_count": 74,
     "metadata": {},
     "output_type": "execute_result"
    },
    {
     "data": {
      "image/png": "[encoded data removed]",
      "text/plain": [
       "<Figure size 1440x576 with 1 Axes>"
      ]
     },
     "metadata": {
      "needs_background": "light"
     },
     "output_type": "display_data"
    }
   ],
   "source": [
    "plt.figure(figsize=(20, 8))\n",
    "plt.plot(n_features, scores)"
   ]
  },
  {
   "cell_type": "code",
   "execution_count": null,
   "metadata": {},
   "outputs": [],
   "source": []
  }
 ],
 "metadata": {
  "kernelspec": {
   "display_name": "Python 3",
   "language": "python",
   "name": "python3"
  },
  "language_info": {
   "codemirror_mode": {
    "name": "ipython",
    "version": 3
   },
   "file_extension": ".py",
   "mimetype": "text/x-python",
   "name": "python",
   "nbconvert_exporter": "python",
   "pygments_lexer": "ipython3",
   "version": "3.6.7"
  }
 },
 "nbformat": 4,
 "nbformat_minor": 2
}

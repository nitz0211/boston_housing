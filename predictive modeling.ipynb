{
 "cells": [
  {
   "cell_type": "code",
   "execution_count": 146,
   "metadata": {},
   "outputs": [],
   "source": [
    "import os, json\n",
    "import warnings\n",
    "import numpy as np\n",
    "import matplotlib.pyplot as plt\n",
    "import seaborn as sns\n",
    "import pandas as pd\n",
    "\n",
    "warnings.filterwarnings('ignore')"
   ]
  },
  {
   "cell_type": "code",
   "execution_count": 147,
   "metadata": {},
   "outputs": [],
   "source": [
    "from sklearn.preprocessing import StandardScaler, RobustScaler, MinMaxScaler\n",
    "from sklearn.preprocessing import PolynomialFeatures\n",
    "\n",
    "from sklearn.linear_model import LinearRegression, Ridge, Lasso, ElasticNet\n",
    "from sklearn.ensemble import RandomForestRegressor, GradientBoostingRegressor\n",
    "from xgboost import XGBRegressor\n",
    "from lightgbm import LGBMRegressor\n",
    "\n",
    "from sklearn.model_selection import train_test_split, GridSearchCV, cross_validate\n",
    "from sklearn.feature_selection import SelectPercentile, SelectFromModel, RFE, f_regression\n",
    "\n",
    "from sklearn.metrics import r2_score, mean_absolute_error, mean_squared_error"
   ]
  },
  {
   "cell_type": "code",
   "execution_count": 148,
   "metadata": {},
   "outputs": [],
   "source": [
    "config_file = \"config.json\"\n",
    "\n",
    "with open(config_file, \"r\") as f:\n",
    "    config = json.load(f)"
   ]
  },
  {
   "cell_type": "code",
   "execution_count": 149,
   "metadata": {},
   "outputs": [],
   "source": [
    "data = np.loadtxt(os.path.join(config[\"data_path\"], config[\"data_file\"]), delimiter=\",\", dtype=np.float32)"
   ]
  },
  {
   "cell_type": "code",
   "execution_count": 150,
   "metadata": {},
   "outputs": [],
   "source": [
    "def find_best_n_features_by_percentile(estimator, train_x, train_y, test_x, test_y):\n",
    "    n_features = []\n",
    "    scores = []\n",
    "    selects = []\n",
    "    for i in range(0, 100):        \n",
    "        select = SelectPercentile(score_func=f_regression, percentile=i + 1)\n",
    "        select.fit(train_x, train_y)\n",
    "        select_x = select.transform(train_x)\n",
    "        estimator.fit(select_x, train_y)\n",
    "        selects.append(select)\n",
    "        n_features.append(select_x.shape[1])\n",
    "        scores.append(estimator.score(select.transform(test_x), test_y))\n",
    "    return np.array(n_features), np.array(scores), selects[np.argmax(np.array(scores))]"
   ]
  },
  {
   "cell_type": "code",
   "execution_count": 151,
   "metadata": {},
   "outputs": [],
   "source": [
    "def find_best_n_features_from_model(estimator, train_x, train_y, test_x, test_y):    \n",
    "    n_features = []\n",
    "    scores = []\n",
    "    selects = []\n",
    "    for threshold in (\"median\", \"1.2*median\", \"1.4*median\", \"mean\", \"1.2*mean\", \"1.4*mean\", \"10*mean\"):\n",
    "        select = SelectFromModel(estimator, threshold=threshold)\n",
    "        select.fit(train_x, train_y)\n",
    "        select_x = select.transform(train_x)\n",
    "        estimator.fit(select_x, train_y)\n",
    "        selects.append(select)\n",
    "        n_features.append(select_x.shape[1])\n",
    "        scores.append(estimator.score(select.transform(test_x), test_y))\n",
    "    return np.array(n_features), np.array(scores), selects[np.argmax(np.array(scores))]"
   ]
  },
  {
   "cell_type": "code",
   "execution_count": 152,
   "metadata": {},
   "outputs": [],
   "source": [
    "def find_best_n_features_from_RFE(estimator, train_x, train_y, test_x, test_y):    \n",
    "    n_features = []\n",
    "    scores = []\n",
    "    selects = []\n",
    "    for i in range(0, train_x.shape[1]):\n",
    "        select = RFE(estimator, n_features_to_select=i + 1)\n",
    "        select.fit(train_x, train_y)\n",
    "        select_x = select.transform(train_x)\n",
    "        estimator.fit(select_x, train_y)\n",
    "        selects.append(select)\n",
    "        n_features.append(select_x.shape[1])\n",
    "        scores.append(estimator.score(select.transform(test_x), test_y))\n",
    "    return np.array(n_features), np.array(scores), selects[np.argmax(np.array(scores))]"
   ]
  },
  {
   "cell_type": "markdown",
   "metadata": {},
   "source": [
    "### 1. 피처 엔지니어링"
   ]
  },
  {
   "cell_type": "code",
   "execution_count": 153,
   "metadata": {},
   "outputs": [],
   "source": [
    "x = data[:, :-1]\n",
    "y = data[:, 13]"
   ]
  },
  {
   "cell_type": "code",
   "execution_count": 154,
   "metadata": {},
   "outputs": [],
   "source": [
    "train_x, test_x, train_y, test_y = train_test_split(x,  y, test_size=0.2, random_state=1)"
   ]
  },
  {
   "cell_type": "markdown",
   "metadata": {},
   "source": [
    "#### LinaerRegression"
   ]
  },
  {
   "cell_type": "code",
   "execution_count": 155,
   "metadata": {},
   "outputs": [],
   "source": [
    "lr = LinearRegression()"
   ]
  },
  {
   "cell_type": "code",
   "execution_count": 156,
   "metadata": {},
   "outputs": [],
   "source": [
    "res = cross_validate(lr, train_x, train_y, cv=5, return_train_score=True)\n",
    "res = pd.DataFrame(res)"
   ]
  },
  {
   "cell_type": "code",
   "execution_count": 157,
   "metadata": {},
   "outputs": [
    {
     "name": "stdout",
     "output_type": "stream",
     "text": [
      "선형회귀 결과\n",
      "\n",
      "   fit_time  score_time  test_score  train_score\n",
      "0  0.002095    0.001099    0.753503     0.720783\n",
      "1  0.001431    0.000849    0.692025     0.735760\n",
      "2  0.001137    0.000818    0.682255     0.730841\n",
      "3  0.001092    0.000838    0.669012     0.742178\n",
      "4  0.000844    0.000529    0.715768     0.730887\n",
      "\n",
      "fit_time       0.001320\n",
      "score_time     0.000827\n",
      "test_score     0.702512\n",
      "train_score    0.732090\n",
      "dtype: float64\n"
     ]
    }
   ],
   "source": [
    "print(\"선형회귀 결과\")\n",
    "print()\n",
    "print(res)\n",
    "print()\n",
    "print(res.mean(axis=0))"
   ]
  },
  {
   "cell_type": "code",
   "execution_count": 158,
   "metadata": {},
   "outputs": [],
   "source": [
    "def getPolynomialFeatures(x, degree=2):\n",
    "    polynomial_features = PolynomialFeatures(degree=degree)\n",
    "    x_poly = polynomial_features.fit_transform(x)\n",
    "    return x_poly, polynomial_features"
   ]
  },
  {
   "cell_type": "code",
   "execution_count": 159,
   "metadata": {},
   "outputs": [],
   "source": [
    "def make_features(data, transform_method=None, degree=None):        \n",
    "    x = data[:, :-1]\n",
    "    y = data[:, 13]\n",
    "    \n",
    "    if transform_method == 'Standard':\n",
    "        sc = StandardScaler()\n",
    "        sc.fit(x)\n",
    "        x = sc.transform(x)\n",
    "    elif transform_method == 'MinMax':\n",
    "        mmsc = MinMaxScaler()\n",
    "        mmsc.fit(x)\n",
    "        x = mmsc.transform(x)\n",
    "    \n",
    "    if transform_method == 'Log':\n",
    "        x = np.log1p(x)        \n",
    "    \n",
    "    polynomial_feaures = None\n",
    "    \n",
    "    if degree != None:\n",
    "        x, polynomial_feaures = getPolynomialFeatures(x, degree)\n",
    "    \n",
    "    train_x, test_x, train_y, test_y = train_test_split(x,  y, test_size=0.2, random_state=1)    \n",
    "    \n",
    "    return train_x, test_x, train_y, test_y, polynomial_feaures"
   ]
  },
  {
   "cell_type": "code",
   "execution_count": 160,
   "metadata": {},
   "outputs": [],
   "source": [
    "train_x, test_x, train_y, test_y, polynomial_feaures = make_features(data, transform_method='Standard', degree=2)"
   ]
  },
  {
   "cell_type": "code",
   "execution_count": 161,
   "metadata": {},
   "outputs": [],
   "source": [
    "res = cross_validate(lr, train_x, train_y, cv=5, return_train_score=True)\n",
    "res = pd.DataFrame(res)"
   ]
  },
  {
   "cell_type": "code",
   "execution_count": 162,
   "metadata": {},
   "outputs": [
    {
     "name": "stdout",
     "output_type": "stream",
     "text": [
      "선형회귀 + 피처 엔지니어링 결과\n",
      "\n",
      "   fit_time  score_time  test_score  train_score\n",
      "0  0.018497    0.000941    0.631108     0.932457\n",
      "1  0.009468    0.000843    0.807621     0.928962\n",
      "2  0.010728    0.000715    0.730386     0.938631\n",
      "3  0.007752    0.000635    0.826153     0.924714\n",
      "4  0.007671    0.000617    0.750249     0.942658\n",
      "\n",
      "fit_time       0.010823\n",
      "score_time     0.000750\n",
      "test_score     0.749104\n",
      "train_score    0.933484\n",
      "dtype: float64\n"
     ]
    }
   ],
   "source": [
    "print(\"선형회귀 + 피처 엔지니어링 결과\")\n",
    "print()\n",
    "print(res)\n",
    "print()\n",
    "print(res.mean(axis=0))"
   ]
  },
  {
   "cell_type": "code",
   "execution_count": 163,
   "metadata": {},
   "outputs": [],
   "source": [
    "def train_features(estimator, train_x, train_y, cv=5):    \n",
    "    return cross_validate(estimator, train_x, train_y, cv=cv, return_train_score=True)"
   ]
  },
  {
   "cell_type": "code",
   "execution_count": 164,
   "metadata": {},
   "outputs": [],
   "source": [
    "params = []\n",
    "\n",
    "params.append(['Original', None, None])\n",
    "params.append(['Original + Poly 2', None, 2])\n",
    "params.append(['Original + Poly 3', None, 3])\n",
    "params.append(['StandardScaler', 'Standard', None])\n",
    "params.append(['StandardScaler + Poly 2', 'Standard', 2])\n",
    "params.append(['StandardScaler + Poly 3', 'Standard', 3])\n",
    "params.append(['MinMaxScaler', 'MinMax', None])\n",
    "params.append(['MinMaxScaler + Poly 2', 'MinMax', 2])\n",
    "params.append(['MinMaxScaler + Poly 3', 'MinMax', 3])\n",
    "params.append(['Log', 'Log', None])\n",
    "params.append(['Log + Poly 2', 'Log', 2])\n",
    "params.append(['Log + Poly 3', 'Log', 3])"
   ]
  },
  {
   "cell_type": "code",
   "execution_count": 165,
   "metadata": {},
   "outputs": [],
   "source": [
    "results = []\n",
    "\n",
    "for param in params:\n",
    "    train_x, test_x, train_y, test_y, _ = make_features(data, transform_method=param[1], degree=param[2])    \n",
    "    res = pd.DataFrame(train_features(LinearRegression(), train_x, train_y)).mean()\n",
    "    results.append([param[0], res[0], res[1], res[2], res[3]])"
   ]
  },
  {
   "cell_type": "code",
   "execution_count": 166,
   "metadata": {},
   "outputs": [
    {
     "name": "stdout",
     "output_type": "stream",
     "text": [
      "선형회귀 + 피처 조합\n"
     ]
    },
    {
     "data": {
      "text/html": [
       "<div>\n",
       "<style scoped>\n",
       "    .dataframe tbody tr th:only-of-type {\n",
       "        vertical-align: middle;\n",
       "    }\n",
       "\n",
       "    .dataframe tbody tr th {\n",
       "        vertical-align: top;\n",
       "    }\n",
       "\n",
       "    .dataframe thead th {\n",
       "        text-align: right;\n",
       "    }\n",
       "</style>\n",
       "<table border=\"1\" class=\"dataframe\">\n",
       "  <thead>\n",
       "    <tr style=\"text-align: right;\">\n",
       "      <th></th>\n",
       "      <th>feature</th>\n",
       "      <th>mean_fit_time</th>\n",
       "      <th>mean_score_time</th>\n",
       "      <th>mean_test_score</th>\n",
       "      <th>mean_train_score</th>\n",
       "    </tr>\n",
       "  </thead>\n",
       "  <tbody>\n",
       "    <tr>\n",
       "      <th>9</th>\n",
       "      <td>Log</td>\n",
       "      <td>0.000610</td>\n",
       "      <td>0.000482</td>\n",
       "      <td>0.750569</td>\n",
       "      <td>0.778385</td>\n",
       "    </tr>\n",
       "    <tr>\n",
       "      <th>7</th>\n",
       "      <td>MinMaxScaler + Poly 2</td>\n",
       "      <td>0.005535</td>\n",
       "      <td>0.000541</td>\n",
       "      <td>0.749235</td>\n",
       "      <td>0.934059</td>\n",
       "    </tr>\n",
       "    <tr>\n",
       "      <th>4</th>\n",
       "      <td>StandardScaler + Poly 2</td>\n",
       "      <td>0.005661</td>\n",
       "      <td>0.000533</td>\n",
       "      <td>0.749104</td>\n",
       "      <td>0.933484</td>\n",
       "    </tr>\n",
       "    <tr>\n",
       "      <th>0</th>\n",
       "      <td>Original</td>\n",
       "      <td>0.001050</td>\n",
       "      <td>0.000729</td>\n",
       "      <td>0.702512</td>\n",
       "      <td>0.732090</td>\n",
       "    </tr>\n",
       "    <tr>\n",
       "      <th>6</th>\n",
       "      <td>MinMaxScaler</td>\n",
       "      <td>0.000608</td>\n",
       "      <td>0.000479</td>\n",
       "      <td>0.702512</td>\n",
       "      <td>0.732090</td>\n",
       "    </tr>\n",
       "    <tr>\n",
       "      <th>3</th>\n",
       "      <td>StandardScaler</td>\n",
       "      <td>0.000609</td>\n",
       "      <td>0.000479</td>\n",
       "      <td>0.702512</td>\n",
       "      <td>0.732090</td>\n",
       "    </tr>\n",
       "    <tr>\n",
       "      <th>1</th>\n",
       "      <td>Original + Poly 2</td>\n",
       "      <td>0.007278</td>\n",
       "      <td>0.000667</td>\n",
       "      <td>0.692269</td>\n",
       "      <td>0.911356</td>\n",
       "    </tr>\n",
       "    <tr>\n",
       "      <th>10</th>\n",
       "      <td>Log + Poly 2</td>\n",
       "      <td>0.005564</td>\n",
       "      <td>0.000542</td>\n",
       "      <td>0.631707</td>\n",
       "      <td>0.842505</td>\n",
       "    </tr>\n",
       "    <tr>\n",
       "      <th>2</th>\n",
       "      <td>Original + Poly 3</td>\n",
       "      <td>0.033747</td>\n",
       "      <td>0.000629</td>\n",
       "      <td>-0.386780</td>\n",
       "      <td>0.962820</td>\n",
       "    </tr>\n",
       "    <tr>\n",
       "      <th>8</th>\n",
       "      <td>MinMaxScaler + Poly 3</td>\n",
       "      <td>0.035694</td>\n",
       "      <td>0.000608</td>\n",
       "      <td>-30.467472</td>\n",
       "      <td>0.999852</td>\n",
       "    </tr>\n",
       "    <tr>\n",
       "      <th>5</th>\n",
       "      <td>StandardScaler + Poly 3</td>\n",
       "      <td>0.037307</td>\n",
       "      <td>0.000610</td>\n",
       "      <td>-38.716154</td>\n",
       "      <td>0.999995</td>\n",
       "    </tr>\n",
       "    <tr>\n",
       "      <th>11</th>\n",
       "      <td>Log + Poly 3</td>\n",
       "      <td>0.034213</td>\n",
       "      <td>0.000607</td>\n",
       "      <td>-96.620928</td>\n",
       "      <td>0.997382</td>\n",
       "    </tr>\n",
       "  </tbody>\n",
       "</table>\n",
       "</div>"
      ],
      "text/plain": [
       "                    feature  mean_fit_time  mean_score_time  mean_test_score  \\\n",
       "9                       Log       0.000610         0.000482         0.750569   \n",
       "7     MinMaxScaler + Poly 2       0.005535         0.000541         0.749235   \n",
       "4   StandardScaler + Poly 2       0.005661         0.000533         0.749104   \n",
       "0                  Original       0.001050         0.000729         0.702512   \n",
       "6              MinMaxScaler       0.000608         0.000479         0.702512   \n",
       "3            StandardScaler       0.000609         0.000479         0.702512   \n",
       "1         Original + Poly 2       0.007278         0.000667         0.692269   \n",
       "10             Log + Poly 2       0.005564         0.000542         0.631707   \n",
       "2         Original + Poly 3       0.033747         0.000629        -0.386780   \n",
       "8     MinMaxScaler + Poly 3       0.035694         0.000608       -30.467472   \n",
       "5   StandardScaler + Poly 3       0.037307         0.000610       -38.716154   \n",
       "11             Log + Poly 3       0.034213         0.000607       -96.620928   \n",
       "\n",
       "    mean_train_score  \n",
       "9           0.778385  \n",
       "7           0.934059  \n",
       "4           0.933484  \n",
       "0           0.732090  \n",
       "6           0.732090  \n",
       "3           0.732090  \n",
       "1           0.911356  \n",
       "10          0.842505  \n",
       "2           0.962820  \n",
       "8           0.999852  \n",
       "5           0.999995  \n",
       "11          0.997382  "
      ]
     },
     "execution_count": 166,
     "metadata": {},
     "output_type": "execute_result"
    }
   ],
   "source": [
    "res = pd.DataFrame(results)\n",
    "res.columns = ['feature', 'mean_fit_time', 'mean_score_time', 'mean_test_score', 'mean_train_score']\n",
    "print(\"선형회귀 + 피처 조합\")\n",
    "res.sort_values('mean_test_score', ascending=False)"
   ]
  },
  {
   "cell_type": "code",
   "execution_count": 167,
   "metadata": {},
   "outputs": [],
   "source": [
    "train_x, test_x, train_y, test_y, polynomial_features = make_features(data, transform_method='Log', degree=None)"
   ]
  },
  {
   "cell_type": "code",
   "execution_count": 172,
   "metadata": {},
   "outputs": [
    {
     "name": "stdout",
     "output_type": "stream",
     "text": [
      "선형회귀 피처 선택 결과 (Percentile)\n",
      "n_features: 13\n",
      "best_score: 0.8261641691260689\n"
     ]
    }
   ],
   "source": [
    "n_features, scores, select = find_best_n_features_by_percentile(LinearRegression(), train_x, train_y, test_x, test_y)\n",
    "print(\"선형회귀 피처 선택 결과 (Percentile)\")\n",
    "print('n_features: {}'.format(n_features[np.argmax(scores)]))\n",
    "print('best_score: {}'.format(np.max(scores)))"
   ]
  },
  {
   "cell_type": "code",
   "execution_count": 169,
   "metadata": {},
   "outputs": [
    {
     "data": {
      "text/plain": [
       "Text(0.5, 1.0, 'LinearRegression Feature Selection (Percentile)')"
      ]
     },
     "execution_count": 169,
     "metadata": {},
     "output_type": "execute_result"
    },
    {
     "data": {
      "image/png": "[encoded data removed]",
      "text/plain": [
       "<Figure size 1440x576 with 1 Axes>"
      ]
     },
     "metadata": {
      "needs_background": "light"
     },
     "output_type": "display_data"
    }
   ],
   "source": [
    "plt.figure(figsize=(20, 8))\n",
    "plt.plot(n_features, scores)\n",
    "plt.title(\"LinearRegression Feature Selection (Percentile)\")"
   ]
  },
  {
   "cell_type": "code",
   "execution_count": 171,
   "metadata": {},
   "outputs": [
    {
     "name": "stdout",
     "output_type": "stream",
     "text": [
      "선형회귀 피처 결과 (Percentile)\n"
     ]
    },
    {
     "data": {
      "image/png": "[encoded data removed]",
      "text/plain": [
       "<Figure size 1152x144 with 1 Axes>"
      ]
     },
     "metadata": {
      "needs_background": "light"
     },
     "output_type": "display_data"
    }
   ],
   "source": [
    "mask = select.get_support()\n",
    "plt.matshow(mask.reshape(1, -1), cmap='gray_r')\n",
    "print(\"선형회귀 피처 결과 (Percentile)\")"
   ]
  },
  {
   "cell_type": "code",
   "execution_count": 173,
   "metadata": {},
   "outputs": [
    {
     "name": "stdout",
     "output_type": "stream",
     "text": [
      "선형회귀 재귀적 특성 제거 결과\n",
      "n_features: 11\n",
      "best_score: 0.8269428782685562\n"
     ]
    }
   ],
   "source": [
    "n_features, scores, select = find_best_n_features_from_RFE(LinearRegression(), train_x, train_y, test_x, test_y)\n",
    "print(\"선형회귀 재귀적 특성 제거 결과\")\n",
    "print('n_features: {}'.format(n_features[np.argmax(scores)]))\n",
    "print('best_score: {}'.format(np.max(scores)))"
   ]
  },
  {
   "cell_type": "code",
   "execution_count": 174,
   "metadata": {},
   "outputs": [
    {
     "data": {
      "text/plain": [
       "Text(0.5, 1.0, 'LinearRegression RFE')"
      ]
     },
     "execution_count": 174,
     "metadata": {},
     "output_type": "execute_result"
    },
    {
     "data": {
      "image/png": "[encoded data removed]",
      "text/plain": [
       "<Figure size 1440x576 with 1 Axes>"
      ]
     },
     "metadata": {
      "needs_background": "light"
     },
     "output_type": "display_data"
    }
   ],
   "source": [
    "plt.figure(figsize=(20, 8))\n",
    "plt.plot(n_features, scores)\n",
    "plt.title(\"LinearRegression RFE\")"
   ]
  },
  {
   "cell_type": "code",
   "execution_count": 175,
   "metadata": {},
   "outputs": [
    {
     "name": "stdout",
     "output_type": "stream",
     "text": [
      "선형회귀 재귀적 특성 제거 결과\n"
     ]
    },
    {
     "data": {
      "image/png": "[encoded data removed]",
      "text/plain": [
       "<Figure size 1152x144 with 1 Axes>"
      ]
     },
     "metadata": {
      "needs_background": "light"
     },
     "output_type": "display_data"
    }
   ],
   "source": [
    "mask = select.get_support()\n",
    "plt.matshow(mask.reshape(1, -1), cmap='gray_r')\n",
    "print(\"선형회귀 재귀적 특성 제거 결과\")"
   ]
  },
  {
   "cell_type": "code",
   "execution_count": 177,
   "metadata": {},
   "outputs": [],
   "source": [
    "lm_feature_selection = select.get_support()"
   ]
  },
  {
   "cell_type": "markdown",
   "metadata": {},
   "source": [
    "#### RandomForest"
   ]
  },
  {
   "cell_type": "code",
   "execution_count": 178,
   "metadata": {},
   "outputs": [],
   "source": [
    "results = []\n",
    "\n",
    "for param in params:\n",
    "    train_x, test_x, train_y, test_y, _ = make_features(data, transform_method=param[1], degree=param[2])    \n",
    "    res = pd.DataFrame(train_features(RandomForestRegressor(n_estimators=300), train_x, train_y)).mean()\n",
    "    results.append([param[0], res[0], res[1], res[2], res[3]])"
   ]
  },
  {
   "cell_type": "code",
   "execution_count": 181,
   "metadata": {},
   "outputs": [
    {
     "name": "stdout",
     "output_type": "stream",
     "text": [
      "랜덤포레스트 피처 조합\n"
     ]
    },
    {
     "data": {
      "text/html": [
       "<div>\n",
       "<style scoped>\n",
       "    .dataframe tbody tr th:only-of-type {\n",
       "        vertical-align: middle;\n",
       "    }\n",
       "\n",
       "    .dataframe tbody tr th {\n",
       "        vertical-align: top;\n",
       "    }\n",
       "\n",
       "    .dataframe thead th {\n",
       "        text-align: right;\n",
       "    }\n",
       "</style>\n",
       "<table border=\"1\" class=\"dataframe\">\n",
       "  <thead>\n",
       "    <tr style=\"text-align: right;\">\n",
       "      <th></th>\n",
       "      <th>feature</th>\n",
       "      <th>mean_fit_time</th>\n",
       "      <th>mean_score_time</th>\n",
       "      <th>mean_test_score</th>\n",
       "      <th>mean_train_score</th>\n",
       "    </tr>\n",
       "  </thead>\n",
       "  <tbody>\n",
       "    <tr>\n",
       "      <th>7</th>\n",
       "      <td>MinMaxScaler + Poly 2</td>\n",
       "      <td>3.226248</td>\n",
       "      <td>0.014360</td>\n",
       "      <td>0.872225</td>\n",
       "      <td>0.980370</td>\n",
       "    </tr>\n",
       "    <tr>\n",
       "      <th>11</th>\n",
       "      <td>Log + Poly 3</td>\n",
       "      <td>8.586286</td>\n",
       "      <td>0.008574</td>\n",
       "      <td>0.870250</td>\n",
       "      <td>0.980444</td>\n",
       "    </tr>\n",
       "    <tr>\n",
       "      <th>9</th>\n",
       "      <td>Log</td>\n",
       "      <td>0.364699</td>\n",
       "      <td>0.008517</td>\n",
       "      <td>0.868957</td>\n",
       "      <td>0.979940</td>\n",
       "    </tr>\n",
       "    <tr>\n",
       "      <th>6</th>\n",
       "      <td>MinMaxScaler</td>\n",
       "      <td>0.352587</td>\n",
       "      <td>0.008241</td>\n",
       "      <td>0.866863</td>\n",
       "      <td>0.980038</td>\n",
       "    </tr>\n",
       "    <tr>\n",
       "      <th>0</th>\n",
       "      <td>Original</td>\n",
       "      <td>0.337453</td>\n",
       "      <td>0.008079</td>\n",
       "      <td>0.866369</td>\n",
       "      <td>0.980362</td>\n",
       "    </tr>\n",
       "    <tr>\n",
       "      <th>3</th>\n",
       "      <td>StandardScaler</td>\n",
       "      <td>0.334035</td>\n",
       "      <td>0.007925</td>\n",
       "      <td>0.865087</td>\n",
       "      <td>0.979869</td>\n",
       "    </tr>\n",
       "    <tr>\n",
       "      <th>10</th>\n",
       "      <td>Log + Poly 2</td>\n",
       "      <td>1.861519</td>\n",
       "      <td>0.008119</td>\n",
       "      <td>0.859268</td>\n",
       "      <td>0.979545</td>\n",
       "    </tr>\n",
       "    <tr>\n",
       "      <th>1</th>\n",
       "      <td>Original + Poly 2</td>\n",
       "      <td>1.862998</td>\n",
       "      <td>0.008128</td>\n",
       "      <td>0.857175</td>\n",
       "      <td>0.979133</td>\n",
       "    </tr>\n",
       "    <tr>\n",
       "      <th>2</th>\n",
       "      <td>Original + Poly 3</td>\n",
       "      <td>8.492647</td>\n",
       "      <td>0.008407</td>\n",
       "      <td>0.842826</td>\n",
       "      <td>0.978817</td>\n",
       "    </tr>\n",
       "    <tr>\n",
       "      <th>8</th>\n",
       "      <td>MinMaxScaler + Poly 3</td>\n",
       "      <td>14.501745</td>\n",
       "      <td>0.013356</td>\n",
       "      <td>0.840836</td>\n",
       "      <td>0.978987</td>\n",
       "    </tr>\n",
       "    <tr>\n",
       "      <th>4</th>\n",
       "      <td>StandardScaler + Poly 2</td>\n",
       "      <td>2.140259</td>\n",
       "      <td>0.008064</td>\n",
       "      <td>0.831001</td>\n",
       "      <td>0.976471</td>\n",
       "    </tr>\n",
       "    <tr>\n",
       "      <th>5</th>\n",
       "      <td>StandardScaler + Poly 3</td>\n",
       "      <td>11.515030</td>\n",
       "      <td>0.008783</td>\n",
       "      <td>0.816662</td>\n",
       "      <td>0.973927</td>\n",
       "    </tr>\n",
       "  </tbody>\n",
       "</table>\n",
       "</div>"
      ],
      "text/plain": [
       "                    feature  mean_fit_time  mean_score_time  mean_test_score  \\\n",
       "7     MinMaxScaler + Poly 2       3.226248         0.014360         0.872225   \n",
       "11             Log + Poly 3       8.586286         0.008574         0.870250   \n",
       "9                       Log       0.364699         0.008517         0.868957   \n",
       "6              MinMaxScaler       0.352587         0.008241         0.866863   \n",
       "0                  Original       0.337453         0.008079         0.866369   \n",
       "3            StandardScaler       0.334035         0.007925         0.865087   \n",
       "10             Log + Poly 2       1.861519         0.008119         0.859268   \n",
       "1         Original + Poly 2       1.862998         0.008128         0.857175   \n",
       "2         Original + Poly 3       8.492647         0.008407         0.842826   \n",
       "8     MinMaxScaler + Poly 3      14.501745         0.013356         0.840836   \n",
       "4   StandardScaler + Poly 2       2.140259         0.008064         0.831001   \n",
       "5   StandardScaler + Poly 3      11.515030         0.008783         0.816662   \n",
       "\n",
       "    mean_train_score  \n",
       "7           0.980370  \n",
       "11          0.980444  \n",
       "9           0.979940  \n",
       "6           0.980038  \n",
       "0           0.980362  \n",
       "3           0.979869  \n",
       "10          0.979545  \n",
       "1           0.979133  \n",
       "2           0.978817  \n",
       "8           0.978987  \n",
       "4           0.976471  \n",
       "5           0.973927  "
      ]
     },
     "execution_count": 181,
     "metadata": {},
     "output_type": "execute_result"
    }
   ],
   "source": [
    "res = pd.DataFrame(results)\n",
    "res.columns = ['feature', 'mean_fit_time', 'mean_score_time', 'mean_test_score', 'mean_train_score']\n",
    "print(\"랜덤포레스트 피처 조합\")\n",
    "res.sort_values('mean_test_score', ascending=False)"
   ]
  },
  {
   "cell_type": "code",
   "execution_count": 182,
   "metadata": {},
   "outputs": [],
   "source": [
    "train_x, test_x, train_y, test_y, _ = make_features(data, transform_method=None, degree=None)"
   ]
  },
  {
   "cell_type": "code",
   "execution_count": 183,
   "metadata": {},
   "outputs": [
    {
     "data": {
      "text/plain": [
       "RandomForestRegressor(bootstrap=True, criterion='mse', max_depth=None,\n",
       "                      max_features='auto', max_leaf_nodes=None,\n",
       "                      min_impurity_decrease=0.0, min_impurity_split=None,\n",
       "                      min_samples_leaf=1, min_samples_split=2,\n",
       "                      min_weight_fraction_leaf=0.0, n_estimators=300,\n",
       "                      n_jobs=None, oob_score=False, random_state=None,\n",
       "                      verbose=0, warm_start=False)"
      ]
     },
     "execution_count": 183,
     "metadata": {},
     "output_type": "execute_result"
    }
   ],
   "source": [
    "rf = RandomForestRegressor(n_estimators=300)\n",
    "rf.fit(train_x, train_y)"
   ]
  },
  {
   "cell_type": "code",
   "execution_count": 184,
   "metadata": {},
   "outputs": [],
   "source": [
    "feature_names = ['CRIM', 'ZN', 'INDUS', 'CHAS', 'NOX', 'RM' ,'AGE', 'DIS', 'RAD', 'TAX', 'PTRATIO', 'B', 'LSTAT']\n",
    "feature_impotances = pd.Series(rf.feature_importances_, index=feature_names)\n",
    "feature_impotances = feature_impotances.sort_values(ascending=False)"
   ]
  },
  {
   "cell_type": "code",
   "execution_count": 186,
   "metadata": {},
   "outputs": [
    {
     "name": "stdout",
     "output_type": "stream",
     "text": [
      "랜덤포레스트 피처 중요도\n"
     ]
    },
    {
     "data": {
      "text/plain": [
       "<matplotlib.axes._subplots.AxesSubplot at 0x7f83c6e03518>"
      ]
     },
     "execution_count": 186,
     "metadata": {},
     "output_type": "execute_result"
    },
    {
     "data": {
      "image/png": "[encoded data removed]",
      "text/plain": [
       "<Figure size 720x360 with 1 Axes>"
      ]
     },
     "metadata": {
      "needs_background": "light"
     },
     "output_type": "display_data"
    }
   ],
   "source": [
    "plt.figure(figsize=(10, 5))\n",
    "print(\"랜덤포레스트 피처 중요도\")\n",
    "sns.barplot(x=feature_impotances, y=feature_impotances.index)"
   ]
  },
  {
   "cell_type": "code",
   "execution_count": 48,
   "metadata": {},
   "outputs": [
    {
     "name": "stdout",
     "output_type": "stream",
     "text": [
      "n_features: 12\n",
      "best_score: 0.9152074992392787\n"
     ]
    }
   ],
   "source": [
    "n_features, scores, select = find_best_n_features_by_percentile(RandomForestRegressor(n_estimators=300), train_x, train_y, test_x, test_y)\n",
    "print('n_features: {}'.format(n_features[np.argmax(scores)]))\n",
    "print('best_score: {}'.format(np.max(scores)))"
   ]
  },
  {
   "cell_type": "code",
   "execution_count": 49,
   "metadata": {},
   "outputs": [
    {
     "data": {
      "text/plain": [
       "[<matplotlib.lines.Line2D at 0x7f83c9599e48>]"
      ]
     },
     "execution_count": 49,
     "metadata": {},
     "output_type": "execute_result"
    },
    {
     "data": {
      "image/png": "[encoded data removed]",
      "text/plain": [
       "<Figure size 1440x576 with 1 Axes>"
      ]
     },
     "metadata": {
      "needs_background": "light"
     },
     "output_type": "display_data"
    }
   ],
   "source": [
    "plt.figure(figsize=(20, 8))\n",
    "plt.plot(n_features, scores)"
   ]
  },
  {
   "cell_type": "code",
   "execution_count": 50,
   "metadata": {},
   "outputs": [
    {
     "data": {
      "text/plain": [
       "<matplotlib.image.AxesImage at 0x7f83c94f5dd8>"
      ]
     },
     "execution_count": 50,
     "metadata": {},
     "output_type": "execute_result"
    },
    {
     "data": {
      "image/png": "[encoded data removed]",
      "text/plain": [
       "<Figure size 1152x144 with 1 Axes>"
      ]
     },
     "metadata": {
      "needs_background": "light"
     },
     "output_type": "display_data"
    }
   ],
   "source": [
    "mask = select.get_support()\n",
    "plt.matshow(mask.reshape(1, -1), cmap='gray_r')"
   ]
  },
  {
   "cell_type": "code",
   "execution_count": 656,
   "metadata": {},
   "outputs": [
    {
     "name": "stdout",
     "output_type": "stream",
     "text": [
      "n_features: 8\n",
      "best_score: 0.9152180980473656\n"
     ]
    }
   ],
   "source": [
    "n_features, scores, select = find_best_n_features_from_RFE(RandomForestRegressor(n_estimators=300), train_x, train_y, test_x, test_y)\n",
    "print('n_features: {}'.format(n_features[np.argmax(scores)]))\n",
    "print('best_score: {}'.format(np.max(scores)))"
   ]
  },
  {
   "cell_type": "code",
   "execution_count": 657,
   "metadata": {},
   "outputs": [
    {
     "data": {
      "text/plain": [
       "[<matplotlib.lines.Line2D at 0x7f76585fa978>]"
      ]
     },
     "execution_count": 657,
     "metadata": {},
     "output_type": "execute_result"
    },
    {
     "data": {
      "image/png": "[encoded data removed]",
      "text/plain": [
       "<Figure size 1440x576 with 1 Axes>"
      ]
     },
     "metadata": {
      "needs_background": "light"
     },
     "output_type": "display_data"
    }
   ],
   "source": [
    "plt.figure(figsize=(20, 8))\n",
    "plt.plot(n_features, scores)"
   ]
  },
  {
   "cell_type": "code",
   "execution_count": 658,
   "metadata": {},
   "outputs": [
    {
     "data": {
      "text/plain": [
       "<matplotlib.image.AxesImage at 0x7f7658669d68>"
      ]
     },
     "execution_count": 658,
     "metadata": {},
     "output_type": "execute_result"
    },
    {
     "data": {
      "image/png": "[encoded data removed]",
      "text/plain": [
       "<Figure size 1152x144 with 1 Axes>"
      ]
     },
     "metadata": {
      "needs_background": "light"
     },
     "output_type": "display_data"
    }
   ],
   "source": [
    "mask = select.get_support()\n",
    "plt.matshow(mask.reshape(1, -1), cmap='gray_r')"
   ]
  },
  {
   "cell_type": "markdown",
   "metadata": {},
   "source": [
    "### 2. 모델링"
   ]
  },
  {
   "cell_type": "code",
   "execution_count": 98,
   "metadata": {},
   "outputs": [],
   "source": [
    "train_x, test_x, train_y, test_y, _ = make_features(data, transform_method='MinMax', degree=2)"
   ]
  },
  {
   "cell_type": "code",
   "execution_count": 99,
   "metadata": {},
   "outputs": [],
   "source": [
    "models = []"
   ]
  },
  {
   "cell_type": "code",
   "execution_count": 100,
   "metadata": {},
   "outputs": [],
   "source": [
    "def train_models(estimator, param_grid, train_x, train_y, test_x, test_y):\n",
    "    cv = GridSearchCV(estimator, param_grid=param_grid, scoring='r2', cv=10, n_jobs=-1, return_train_score=True)\n",
    "    cv.fit(train_x, train_y)\n",
    "    cv.best_estimator_.score(test_x, test_y)\n",
    "    return [estimator.__class__, cv.best_estimator_, cv.best_params_, cv.best_score_, cv.best_estimator_.score(test_x, test_y), cv]   "
   ]
  },
  {
   "cell_type": "markdown",
   "metadata": {},
   "source": [
    "#### Lasso"
   ]
  },
  {
   "cell_type": "code",
   "execution_count": 101,
   "metadata": {},
   "outputs": [],
   "source": [
    "lasso_params = [\n",
    "    { 'alpha': [0.000001, 0.00001, 0.0001, 0.001, 0.01, 0.1, 1.0] }\n",
    "]"
   ]
  },
  {
   "cell_type": "code",
   "execution_count": 102,
   "metadata": {},
   "outputs": [],
   "source": [
    "models.append(train_models(Lasso(), lasso_params, train_x, train_y, test_x, test_y))"
   ]
  },
  {
   "cell_type": "markdown",
   "metadata": {},
   "source": [
    "#### Ridge"
   ]
  },
  {
   "cell_type": "code",
   "execution_count": 103,
   "metadata": {},
   "outputs": [],
   "source": [
    "ridge_params = [\n",
    "    { 'alpha': [0.000001, 0.00001, 0.0001, 0.001, 0.01, 0.1, 1.0] }\n",
    "]"
   ]
  },
  {
   "cell_type": "code",
   "execution_count": 104,
   "metadata": {},
   "outputs": [],
   "source": [
    "models.append(train_models(Ridge(), ridge_params, train_x, train_y, test_x, test_y))"
   ]
  },
  {
   "cell_type": "markdown",
   "metadata": {},
   "source": [
    "#### RandomForest"
   ]
  },
  {
   "cell_type": "code",
   "execution_count": 105,
   "metadata": {},
   "outputs": [],
   "source": [
    "rf_params = [\n",
    "    {\n",
    "        'n_estimators': [100, 200, 300, 500, 1000],\n",
    "        'max_depth': [2, 4, 6, 8, 10, 15, 20]\n",
    "    }\n",
    "]"
   ]
  },
  {
   "cell_type": "code",
   "execution_count": 106,
   "metadata": {},
   "outputs": [],
   "source": [
    "models.append(train_models(RandomForestRegressor(), rf_params, train_x, train_y, test_x, test_y))"
   ]
  },
  {
   "cell_type": "markdown",
   "metadata": {},
   "source": [
    "#### Gradient Boosting"
   ]
  },
  {
   "cell_type": "code",
   "execution_count": 107,
   "metadata": {},
   "outputs": [],
   "source": [
    "gb_grid = [\n",
    "    {\n",
    "        'learning_rate': [0.001, 0.01, 0.1],\n",
    "        'max_depth': [2, 4, 6, 8, 10, 15, 20],\n",
    "        'n_estimators': [100, 200, 300, 500, 1000]\n",
    "    }\n",
    "]"
   ]
  },
  {
   "cell_type": "code",
   "execution_count": 108,
   "metadata": {},
   "outputs": [],
   "source": [
    "models.append(train_models(GradientBoostingRegressor(), gb_grid, train_x, train_y, test_x, test_y))"
   ]
  },
  {
   "cell_type": "markdown",
   "metadata": {},
   "source": [
    "#### LightGBM"
   ]
  },
  {
   "cell_type": "code",
   "execution_count": 109,
   "metadata": {},
   "outputs": [],
   "source": [
    "lgbm_params = [\n",
    "    {\n",
    "        'learning_rate': [0.001, 0.01, 0.1],\n",
    "        'max_depth': [2, 4, 6, 8, 10, 15, 20],\n",
    "        'n_estimators': [100, 200, 300, 500, 1000]\n",
    "    }\n",
    "]"
   ]
  },
  {
   "cell_type": "code",
   "execution_count": 110,
   "metadata": {},
   "outputs": [],
   "source": [
    "models.append(train_models(LGBMRegressor(), lgbm_params, train_x, train_y, test_x, test_y))"
   ]
  },
  {
   "cell_type": "markdown",
   "metadata": {},
   "source": [
    "#### XGBoost"
   ]
  },
  {
   "cell_type": "code",
   "execution_count": 111,
   "metadata": {},
   "outputs": [],
   "source": [
    "xgb_params = [\n",
    "    {\n",
    "        'learning_rate': [0.001, 0.01, 0.1],\n",
    "        'max_depth': [2, 4, 6, 8, 10, 15, 20],\n",
    "        'n_estimators': [100, 200, 300, 500, 1000]\n",
    "    }\n",
    "]"
   ]
  },
  {
   "cell_type": "code",
   "execution_count": 112,
   "metadata": {},
   "outputs": [
    {
     "name": "stdout",
     "output_type": "stream",
     "text": [
      "[05:38:15] WARNING: /workspace/src/objective/regression_obj.cu:152: reg:linear is now deprecated in favor of reg:squarederror.\n"
     ]
    }
   ],
   "source": [
    "models.append(train_models(XGBRegressor(), xgb_params, train_x, train_y, test_x, test_y))"
   ]
  },
  {
   "cell_type": "markdown",
   "metadata": {},
   "source": [
    "### 3. 평가"
   ]
  },
  {
   "cell_type": "code",
   "execution_count": 113,
   "metadata": {},
   "outputs": [],
   "source": [
    "eval_df = pd.DataFrame(models)\n",
    "eval_df.columns = ['class', 'estimator', 'best_params', 'valid_r2_score', 'test_r2_score', 'cv']"
   ]
  },
  {
   "cell_type": "code",
   "execution_count": 114,
   "metadata": {},
   "outputs": [
    {
     "data": {
      "text/html": [
       "<div>\n",
       "<style scoped>\n",
       "    .dataframe tbody tr th:only-of-type {\n",
       "        vertical-align: middle;\n",
       "    }\n",
       "\n",
       "    .dataframe tbody tr th {\n",
       "        vertical-align: top;\n",
       "    }\n",
       "\n",
       "    .dataframe thead th {\n",
       "        text-align: right;\n",
       "    }\n",
       "</style>\n",
       "<table border=\"1\" class=\"dataframe\">\n",
       "  <thead>\n",
       "    <tr style=\"text-align: right;\">\n",
       "      <th></th>\n",
       "      <th>class</th>\n",
       "      <th>estimator</th>\n",
       "      <th>best_params</th>\n",
       "      <th>valid_r2_score</th>\n",
       "      <th>test_r2_score</th>\n",
       "      <th>cv</th>\n",
       "    </tr>\n",
       "  </thead>\n",
       "  <tbody>\n",
       "    <tr>\n",
       "      <th>0</th>\n",
       "      <td>&lt;class 'sklearn.linear_model.coordinate_descen...</td>\n",
       "      <td>Lasso(alpha=0.001, copy_X=True, fit_intercept=...</td>\n",
       "      <td>{'alpha': 0.001}</td>\n",
       "      <td>0.801090</td>\n",
       "      <td>0.918163</td>\n",
       "      <td>GridSearchCV(cv=10, error_score='raise-depreca...</td>\n",
       "    </tr>\n",
       "    <tr>\n",
       "      <th>1</th>\n",
       "      <td>&lt;class 'sklearn.linear_model.ridge.Ridge'&gt;</td>\n",
       "      <td>Ridge(alpha=0.1, copy_X=True, fit_intercept=Tr...</td>\n",
       "      <td>{'alpha': 0.1}</td>\n",
       "      <td>0.807664</td>\n",
       "      <td>0.925851</td>\n",
       "      <td>GridSearchCV(cv=10, error_score='raise-depreca...</td>\n",
       "    </tr>\n",
       "    <tr>\n",
       "      <th>2</th>\n",
       "      <td>&lt;class 'sklearn.ensemble.forest.RandomForestRe...</td>\n",
       "      <td>(DecisionTreeRegressor(criterion='mse', max_de...</td>\n",
       "      <td>{'max_depth': 20, 'n_estimators': 100}</td>\n",
       "      <td>0.871966</td>\n",
       "      <td>0.921917</td>\n",
       "      <td>GridSearchCV(cv=10, error_score='raise-depreca...</td>\n",
       "    </tr>\n",
       "    <tr>\n",
       "      <th>3</th>\n",
       "      <td>&lt;class 'sklearn.ensemble.gradient_boosting.Gra...</td>\n",
       "      <td>([DecisionTreeRegressor(criterion='friedman_ms...</td>\n",
       "      <td>{'learning_rate': 0.1, 'max_depth': 4, 'n_esti...</td>\n",
       "      <td>0.891463</td>\n",
       "      <td>0.905336</td>\n",
       "      <td>GridSearchCV(cv=10, error_score='raise-depreca...</td>\n",
       "    </tr>\n",
       "    <tr>\n",
       "      <th>4</th>\n",
       "      <td>&lt;class 'lightgbm.sklearn.LGBMRegressor'&gt;</td>\n",
       "      <td>LGBMRegressor(boosting_type='gbdt', class_weig...</td>\n",
       "      <td>{'learning_rate': 0.1, 'max_depth': 6, 'n_esti...</td>\n",
       "      <td>0.881213</td>\n",
       "      <td>0.905779</td>\n",
       "      <td>GridSearchCV(cv=10, error_score='raise-depreca...</td>\n",
       "    </tr>\n",
       "    <tr>\n",
       "      <th>5</th>\n",
       "      <td>&lt;class 'xgboost.sklearn.XGBRegressor'&gt;</td>\n",
       "      <td>XGBRegressor(base_score=0.5, booster='gbtree',...</td>\n",
       "      <td>{'learning_rate': 0.1, 'max_depth': 2, 'n_esti...</td>\n",
       "      <td>0.900582</td>\n",
       "      <td>0.903337</td>\n",
       "      <td>GridSearchCV(cv=10, error_score='raise-depreca...</td>\n",
       "    </tr>\n",
       "  </tbody>\n",
       "</table>\n",
       "</div>"
      ],
      "text/plain": [
       "                                               class  \\\n",
       "0  <class 'sklearn.linear_model.coordinate_descen...   \n",
       "1         <class 'sklearn.linear_model.ridge.Ridge'>   \n",
       "2  <class 'sklearn.ensemble.forest.RandomForestRe...   \n",
       "3  <class 'sklearn.ensemble.gradient_boosting.Gra...   \n",
       "4           <class 'lightgbm.sklearn.LGBMRegressor'>   \n",
       "5             <class 'xgboost.sklearn.XGBRegressor'>   \n",
       "\n",
       "                                           estimator  \\\n",
       "0  Lasso(alpha=0.001, copy_X=True, fit_intercept=...   \n",
       "1  Ridge(alpha=0.1, copy_X=True, fit_intercept=Tr...   \n",
       "2  (DecisionTreeRegressor(criterion='mse', max_de...   \n",
       "3  ([DecisionTreeRegressor(criterion='friedman_ms...   \n",
       "4  LGBMRegressor(boosting_type='gbdt', class_weig...   \n",
       "5  XGBRegressor(base_score=0.5, booster='gbtree',...   \n",
       "\n",
       "                                         best_params  valid_r2_score  \\\n",
       "0                                   {'alpha': 0.001}        0.801090   \n",
       "1                                     {'alpha': 0.1}        0.807664   \n",
       "2             {'max_depth': 20, 'n_estimators': 100}        0.871966   \n",
       "3  {'learning_rate': 0.1, 'max_depth': 4, 'n_esti...        0.891463   \n",
       "4  {'learning_rate': 0.1, 'max_depth': 6, 'n_esti...        0.881213   \n",
       "5  {'learning_rate': 0.1, 'max_depth': 2, 'n_esti...        0.900582   \n",
       "\n",
       "   test_r2_score                                                 cv  \n",
       "0       0.918163  GridSearchCV(cv=10, error_score='raise-depreca...  \n",
       "1       0.925851  GridSearchCV(cv=10, error_score='raise-depreca...  \n",
       "2       0.921917  GridSearchCV(cv=10, error_score='raise-depreca...  \n",
       "3       0.905336  GridSearchCV(cv=10, error_score='raise-depreca...  \n",
       "4       0.905779  GridSearchCV(cv=10, error_score='raise-depreca...  \n",
       "5       0.903337  GridSearchCV(cv=10, error_score='raise-depreca...  "
      ]
     },
     "execution_count": 114,
     "metadata": {},
     "output_type": "execute_result"
    }
   ],
   "source": [
    "eval_df"
   ]
  },
  {
   "cell_type": "code",
   "execution_count": 115,
   "metadata": {},
   "outputs": [],
   "source": [
    "corr_df = pd.DataFrame(test_y)\n",
    "for model in models:\n",
    "    corr_df = pd.concat([corr_df, pd.DataFrame(model[1].predict(test_x))], axis=1)"
   ]
  },
  {
   "cell_type": "code",
   "execution_count": 116,
   "metadata": {},
   "outputs": [],
   "source": [
    "corr_df.columns = ['real', 'lasso', 'ridge', 'randomforest', 'gradientboosting', 'lightgbm', 'xgboost']"
   ]
  },
  {
   "cell_type": "code",
   "execution_count": 187,
   "metadata": {},
   "outputs": [
    {
     "name": "stdout",
     "output_type": "stream",
     "text": [
      "예측결과 상관계수\n"
     ]
    },
    {
     "data": {
      "text/plain": [
       "real                1.000000\n",
       "rr_ensemble         0.972284\n",
       "ridge               0.965693\n",
       "randomforest        0.965016\n",
       "lasso               0.959832\n",
       "gradientboosting    0.954048\n",
       "lightgbm            0.953941\n",
       "xgboost             0.952658\n",
       "Name: real, dtype: float64"
      ]
     },
     "execution_count": 187,
     "metadata": {},
     "output_type": "execute_result"
    }
   ],
   "source": [
    "print(\"예측결과 상관계수\")\n",
    "corr_df.corr()['real'].sort_values(ascending=False)"
   ]
  },
  {
   "cell_type": "code",
   "execution_count": 124,
   "metadata": {},
   "outputs": [],
   "source": [
    "corr_df['rr_ensemble'] = corr_df['ridge'] * 0.5 + corr_df['randomforest'] * 0.5"
   ]
  },
  {
   "cell_type": "code",
   "execution_count": 188,
   "metadata": {
    "scrolled": true
   },
   "outputs": [
    {
     "name": "stdout",
     "output_type": "stream",
     "text": [
      "예측결과 상관계수\n"
     ]
    },
    {
     "data": {
      "text/plain": [
       "real                1.000000\n",
       "rr_ensemble         0.972284\n",
       "ridge               0.965693\n",
       "randomforest        0.965016\n",
       "lasso               0.959832\n",
       "gradientboosting    0.954048\n",
       "lightgbm            0.953941\n",
       "xgboost             0.952658\n",
       "Name: real, dtype: float64"
      ]
     },
     "execution_count": 188,
     "metadata": {},
     "output_type": "execute_result"
    }
   ],
   "source": [
    "print(\"예측결과 상관계수\")\n",
    "corr_df.corr()['real'].sort_values(ascending=False)"
   ]
  },
  {
   "cell_type": "code",
   "execution_count": 126,
   "metadata": {},
   "outputs": [],
   "source": [
    "from sklearn.metrics import mean_absolute_error, mean_squared_error, r2_score"
   ]
  },
  {
   "cell_type": "code",
   "execution_count": 143,
   "metadata": {},
   "outputs": [],
   "source": [
    "metrics = []\n",
    "for model in models:\n",
    "    metrics.append([model[0].__name__, mean_absolute_error(model[1].predict(test_x), test_y), mean_squared_error(model[1].predict(test_x), test_y)])"
   ]
  },
  {
   "cell_type": "code",
   "execution_count": 189,
   "metadata": {},
   "outputs": [
    {
     "name": "stdout",
     "output_type": "stream",
     "text": [
      "성능 평가\n"
     ]
    },
    {
     "data": {
      "text/html": [
       "<div>\n",
       "<style scoped>\n",
       "    .dataframe tbody tr th:only-of-type {\n",
       "        vertical-align: middle;\n",
       "    }\n",
       "\n",
       "    .dataframe tbody tr th {\n",
       "        vertical-align: top;\n",
       "    }\n",
       "\n",
       "    .dataframe thead th {\n",
       "        text-align: right;\n",
       "    }\n",
       "</style>\n",
       "<table border=\"1\" class=\"dataframe\">\n",
       "  <thead>\n",
       "    <tr style=\"text-align: right;\">\n",
       "      <th></th>\n",
       "      <th>NAME</th>\n",
       "      <th>MAE</th>\n",
       "      <th>MSE</th>\n",
       "    </tr>\n",
       "  </thead>\n",
       "  <tbody>\n",
       "    <tr>\n",
       "      <th>0</th>\n",
       "      <td>Lasso</td>\n",
       "      <td>2.270952</td>\n",
       "      <td>8.087733</td>\n",
       "    </tr>\n",
       "    <tr>\n",
       "      <th>1</th>\n",
       "      <td>Ridge</td>\n",
       "      <td>2.126188</td>\n",
       "      <td>7.327973</td>\n",
       "    </tr>\n",
       "    <tr>\n",
       "      <th>2</th>\n",
       "      <td>RandomForestRegressor</td>\n",
       "      <td>2.193484</td>\n",
       "      <td>7.716721</td>\n",
       "    </tr>\n",
       "    <tr>\n",
       "      <th>3</th>\n",
       "      <td>GradientBoostingRegressor</td>\n",
       "      <td>2.251484</td>\n",
       "      <td>9.355432</td>\n",
       "    </tr>\n",
       "    <tr>\n",
       "      <th>4</th>\n",
       "      <td>LGBMRegressor</td>\n",
       "      <td>2.325522</td>\n",
       "      <td>9.311661</td>\n",
       "    </tr>\n",
       "    <tr>\n",
       "      <th>5</th>\n",
       "      <td>XGBRegressor</td>\n",
       "      <td>2.371392</td>\n",
       "      <td>9.552942</td>\n",
       "    </tr>\n",
       "  </tbody>\n",
       "</table>\n",
       "</div>"
      ],
      "text/plain": [
       "                        NAME       MAE       MSE\n",
       "0                      Lasso  2.270952  8.087733\n",
       "1                      Ridge  2.126188  7.327973\n",
       "2      RandomForestRegressor  2.193484  7.716721\n",
       "3  GradientBoostingRegressor  2.251484  9.355432\n",
       "4              LGBMRegressor  2.325522  9.311661\n",
       "5               XGBRegressor  2.371392  9.552942"
      ]
     },
     "execution_count": 189,
     "metadata": {},
     "output_type": "execute_result"
    }
   ],
   "source": [
    "metrics_df = pd.DataFrame(metrics)\n",
    "metrics_df.columns = ['NAME', 'MAE', 'MSE']\n",
    "print(\"성능 평가\")\n",
    "metrics_df"
   ]
  },
  {
   "cell_type": "code",
   "execution_count": 73,
   "metadata": {},
   "outputs": [
    {
     "name": "stdout",
     "output_type": "stream",
     "text": [
      "n_features: 91\n",
      "best_score: 0.9259689079680443\n"
     ]
    }
   ],
   "source": [
    "n_features, scores, select = find_best_n_features_from_RFE(models[1][1], train_x, train_y, test_x, test_y)\n",
    "print('n_features: {}'.format(n_features[np.argmax(scores)]))\n",
    "print('best_score: {}'.format(np.max(scores)))"
   ]
  },
  {
   "cell_type": "code",
   "execution_count": 74,
   "metadata": {
    "scrolled": false
   },
   "outputs": [
    {
     "data": {
      "text/plain": [
       "[<matplotlib.lines.Line2D at 0x7f83c93cf828>]"
      ]
     },
     "execution_count": 74,
     "metadata": {},
     "output_type": "execute_result"
    },
    {
     "data": {
      "image/png": "[encoded data removed]",
      "text/plain": [
       "<Figure size 1440x576 with 1 Axes>"
      ]
     },
     "metadata": {
      "needs_background": "light"
     },
     "output_type": "display_data"
    }
   ],
   "source": [
    "plt.figure(figsize=(20, 8))\n",
    "plt.plot(n_features, scores)"
   ]
  },
  {
   "cell_type": "code",
   "execution_count": null,
   "metadata": {},
   "outputs": [],
   "source": []
  }
 ],
 "metadata": {
  "kernelspec": {
   "display_name": "Python 3",
   "language": "python",
   "name": "python3"
  },
  "language_info": {
   "codemirror_mode": {
    "name": "ipython",
    "version": 3
   },
   "file_extension": ".py",
   "mimetype": "text/x-python",
   "name": "python",
   "nbconvert_exporter": "python",
   "pygments_lexer": "ipython3",
   "version": "3.6.7"
  }
 },
 "nbformat": 4,
 "nbformat_minor": 2
}
